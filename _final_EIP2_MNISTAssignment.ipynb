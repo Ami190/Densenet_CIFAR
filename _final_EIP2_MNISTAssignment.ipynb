{
  "nbformat": 4,
  "nbformat_minor": 0,
  "metadata": {
    "colab": {
      "name": "_final-EIP2_MNISTAssignment.ipynb",
      "version": "0.3.2",
      "provenance": [],
      "collapsed_sections": [],
      "include_colab_link": true
    },
    "kernelspec": {
      "name": "python3",
      "display_name": "Python 3"
    },
    "accelerator": "GPU"
  },
  "cells": [
    {
      "cell_type": "markdown",
      "metadata": {
        "id": "view-in-github",
        "colab_type": "text"
      },
      "source": [
        "<a href=\"https://colab.research.google.com/github/Ami190/Densenet_CIFAR/blob/master/_final_EIP2_MNISTAssignment.ipynb\" target=\"_parent\"><img src=\"https://colab.research.google.com/assets/colab-badge.svg\" alt=\"Open In Colab\"/></a>"
      ]
    },
    {
      "metadata": {
        "id": "_CJsEAzMHmoi",
        "colab_type": "code",
        "colab": {
          "base_uri": "https://localhost:8080/",
          "height": 34
        },
        "outputId": "dc628892-5d15-4287-8023-67f6aa791e24"
      },
      "cell_type": "code",
      "source": [
        "# https://keras.io/\n",
        "!pip install -q keras\n",
        "import keras"
      ],
      "execution_count": 1,
      "outputs": [
        {
          "output_type": "stream",
          "text": [
            "Using TensorFlow backend.\n"
          ],
          "name": "stderr"
        }
      ]
    },
    {
      "metadata": {
        "id": "cu3VIw0RH_IJ",
        "colab_type": "code",
        "colab": {}
      },
      "cell_type": "code",
      "source": [
        "import numpy as np\n",
        "seed = 128\n",
        "np.random.RandomState(seed)\n",
        "import math\n",
        "from keras import regularizers\n",
        "from keras.models import Sequential\n",
        "from keras.layers import Dense, Dropout, Activation, Flatten, Add\n",
        "from keras.layers import Conv2D, MaxPool2D\n",
        "from keras.utils import np_utils\n",
        "from matplotlib import pyplot as plt\n",
        "from keras.datasets import mnist\n",
        "from keras.optimizers import SGD,Adam\n",
        "from keras import backend as K\n",
        "from keras.callbacks import LearningRateScheduler"
      ],
      "execution_count": 0,
      "outputs": []
    },
    {
      "metadata": {
        "id": "U8bVud7OICVn",
        "colab_type": "code",
        "colab": {
          "base_uri": "https://localhost:8080/",
          "height": 51
        },
        "outputId": "aaae2c2f-2ae7-44a9-e454-efb1bfd11481"
      },
      "cell_type": "code",
      "source": [
        "(raw_train_data, raw_train_labels), (raw_test_data, raw_test_labels) = mnist.load_data()"
      ],
      "execution_count": 3,
      "outputs": [
        {
          "output_type": "stream",
          "text": [
            "Downloading data from https://s3.amazonaws.com/img-datasets/mnist.npz\n",
            "11493376/11490434 [==============================] - 2s 0us/step\n"
          ],
          "name": "stdout"
        }
      ]
    },
    {
      "metadata": {
        "id": "aiJwk8bUX5vC",
        "colab_type": "code",
        "colab": {}
      },
      "cell_type": "code",
      "source": [
        "# learning rate schedule\n",
        "def step_decay(epoch):\n",
        "\tinitial_lrate = 0.1\n",
        "\tdrop = 0.5\n",
        "\tepochs_drop = 10.0\n",
        "\tlrate = initial_lrate * math.pow(drop, math.floor((1+epoch)/epochs_drop))\n",
        "\treturn lrate\n",
        "\n",
        "annealer = LearningRateScheduler(lambda x: 1e-3 * 0.9 ** x)"
      ],
      "execution_count": 0,
      "outputs": []
    },
    {
      "metadata": {
        "id": "a4Zc3-QPISjc",
        "colab_type": "code",
        "colab": {
          "base_uri": "https://localhost:8080/",
          "height": 85
        },
        "outputId": "7edd0278-9cdc-4cad-dbf7-20cd41cffe32"
      },
      "cell_type": "code",
      "source": [
        "# 60000 training images with 28x28 pixels\n",
        "print(np.shape(raw_train_data))\n",
        "# 60000 labels\n",
        "print(np.shape(raw_train_labels))\n",
        " \n",
        "# 10000 test images with 28x28 pixels\n",
        "print(np.shape(raw_test_data))\n",
        "# 10000 labels\n",
        "print(np.shape(raw_test_labels))"
      ],
      "execution_count": 5,
      "outputs": [
        {
          "output_type": "stream",
          "text": [
            "(60000, 28, 28)\n",
            "(60000,)\n",
            "(10000, 28, 28)\n",
            "(10000,)\n"
          ],
          "name": "stdout"
        }
      ]
    },
    {
      "metadata": {
        "id": "86rtYpyiIanr",
        "colab_type": "code",
        "colab": {}
      },
      "cell_type": "code",
      "source": [
        "# input image dimensions\n",
        "img_rows, img_cols = 28, 28\n",
        "# normalizing\n",
        "if K.image_data_format() == 'channels_first':\n",
        "    raw_train_data = raw_train_data.reshape(raw_train_data.shape[0], 1, img_rows, img_cols)\n",
        "    raw_train_data = raw_train_data.reshape(raw_train_data.shape[0], 1, img_rows, img_cols)\n",
        "    input_shape = (1, img_rows, img_cols)\n",
        "else:\n",
        "    raw_train_data = raw_train_data.reshape(raw_train_data.shape[0], img_rows, img_cols, 1)\n",
        "    raw_train_data = raw_train_data.reshape(raw_train_data.shape[0], img_rows, img_cols, 1)\n",
        "    input_shape = (img_rows, img_cols, 1)\n",
        "    \n",
        "test_data = np.asarray(raw_test_data / 255.0 , dtype=float)\n",
        "train_data = np.asarray(raw_train_data / 255.0 , dtype=float)\n",
        "test_labels= np.asarray(raw_test_labels , dtype=np.int32)\n",
        "train_labels = np.asarray(raw_train_labels , dtype=np.int32)\n"
      ],
      "execution_count": 0,
      "outputs": []
    },
    {
      "metadata": {
        "id": "uV3OEQjZIfMm",
        "colab_type": "code",
        "colab": {}
      },
      "cell_type": "code",
      "source": [
        "def plot_images(imgs, labels=None, rows=1, figsize=(20,8), fontsize=14):\n",
        "    figure = plt.figure(figsize=figsize)\n",
        "    cols = max(1,len(imgs) // rows-1)\n",
        "    labels_present = False\n",
        "    # checking if labels is a numpy array\n",
        "    if type(labels).__module__ == np.__name__:\n",
        "        labels_present=labels.any()\n",
        "    elif labels:\n",
        "        labels_present=True\n",
        "    for i in range(len(imgs)):\n",
        "        subplot = figure.add_subplot(rows, cols+1, i+1)\n",
        "        # axis off, but leave a bounding box\n",
        "        plt.tick_params(\n",
        "            axis='both',\n",
        "            which='both',\n",
        "            bottom='off',\n",
        "            top='off',\n",
        "            left='off',\n",
        "            right='off',\n",
        "            labelbottom='off',\n",
        "            labelleft='off')\n",
        "        # plot labels if present\n",
        "        if labels_present:\n",
        "            subplot.set_title(labels[i], fontsize=fontsize)\n",
        "        plt.imshow(imgs[i][:,:,0], cmap='Greys')\n",
        "        \n",
        "    plt.show()"
      ],
      "execution_count": 0,
      "outputs": []
    },
    {
      "metadata": {
        "id": "yUEBK2XfIjDu",
        "colab_type": "code",
        "colab": {
          "base_uri": "https://localhost:8080/",
          "height": 1172
        },
        "outputId": "3fb52f27-2e57-45cf-a635-508024a6e84a"
      },
      "cell_type": "code",
      "source": [
        "# Extract n random samples of each class from the dataset\n",
        "def get_random_sample(number_of_samples=10):\n",
        "    x = []\n",
        "    y = []\n",
        "    for category_number in range(0,10):\n",
        "        # get all samples of a category\n",
        "        train_data_category = train_data[train_labels==category_number]\n",
        "        # pick a number of random samples from the category\n",
        "        train_data_category = train_data_category[np.random.randint(train_data_category.shape[0], \n",
        "                                                                    size=number_of_samples), :]\n",
        "        x.extend(train_data_category)\n",
        "        y.append([category_number]*number_of_samples)\n",
        "    \n",
        "    return np.asarray(x).reshape(-1, 28, 28, 1), y\n",
        "   \n",
        "x_ten_samples, y_ten_samples = get_random_sample(number_of_samples=10)\n",
        " \n",
        "y_ten_samples = np_utils.to_categorical(y_ten_samples)\n",
        "    \n",
        "print(np.shape(x_ten_samples))\n",
        "print(np.shape(y_ten_samples))\n",
        "plot_images(x_ten_samples[0:100], rows=10, figsize=(20,20))"
      ],
      "execution_count": 8,
      "outputs": [
        {
          "output_type": "stream",
          "text": [
            "(100, 28, 28, 1)\n",
            "(10, 10, 10)\n"
          ],
          "name": "stdout"
        },
        {
          "output_type": "display_data",
          "data": {
            "image/png": "[encoded data removed]",
            "text/plain": [
              "<matplotlib.figure.Figure at 0x7f7dd231a908>"
            ]
          },
          "metadata": {
            "tags": []
          }
        }
      ]
    },
    {
      "metadata": {
        "id": "NDuPz1LLIpRM",
        "colab_type": "code",
        "colab": {
          "base_uri": "https://localhost:8080/",
          "height": 493
        },
        "outputId": "ee0472e8-34fd-46fd-e713-15acd297e414"
      },
      "cell_type": "code",
      "source": [
        "from keras.layers.normalization import BatchNormalization\n",
        "def getModel():\n",
        "    model = Sequential() \n",
        "    model.add(Conv2D(filters = 32, kernel_size = (3, 3),kernel_regularizer=regularizers.l2(0.0001), activation='relu',\n",
        "                 input_shape = (28, 28, 1)))  \n",
        "    BatchNormalization(axis=1)\n",
        "    model.add(MaxPool2D())\n",
        "    model.add(Dropout(0.50))\n",
        "    model.add(Conv2D(filters = 32, kernel_size = (3, 3), kernel_regularizer=regularizers.l2(0.0001),activation='relu'))\n",
        "    model.add(MaxPool2D(strides=(2,2)))\n",
        "   # BatchNormalization(axis=1)\n",
        "    model.add(Conv2D(filters = 32, kernel_size = (3, 3),kernel_regularizer=regularizers.l2(0.0001), activation='relu'))\n",
        "    \n",
        "   # model.add(Conv2D(10, 3))\n",
        "    model.add(MaxPool2D())\n",
        "   # model.add(Dropout(0.25))\n",
        "    model.add(Conv2D(10,1)  ) \n",
        "    model.add(Flatten())\n",
        "    model.add(Activation('softmax'))\n",
        "    return model\n",
        "print(getModel().summary())"
      ],
      "execution_count": 9,
      "outputs": [
        {
          "output_type": "stream",
          "text": [
            "_________________________________________________________________\n",
            "Layer (type)                 Output Shape              Param #   \n",
            "=================================================================\n",
            "conv2d_1 (Conv2D)            (None, 26, 26, 32)        320       \n",
            "_________________________________________________________________\n",
            "max_pooling2d_1 (MaxPooling2 (None, 13, 13, 32)        0         \n",
            "_________________________________________________________________\n",
            "dropout_1 (Dropout)          (None, 13, 13, 32)        0         \n",
            "_________________________________________________________________\n",
            "conv2d_2 (Conv2D)            (None, 11, 11, 32)        9248      \n",
            "_________________________________________________________________\n",
            "max_pooling2d_2 (MaxPooling2 (None, 5, 5, 32)          0         \n",
            "_________________________________________________________________\n",
            "conv2d_3 (Conv2D)            (None, 3, 3, 32)          9248      \n",
            "_________________________________________________________________\n",
            "max_pooling2d_3 (MaxPooling2 (None, 1, 1, 32)          0         \n",
            "_________________________________________________________________\n",
            "conv2d_4 (Conv2D)            (None, 1, 1, 10)          330       \n",
            "_________________________________________________________________\n",
            "flatten_1 (Flatten)          (None, 10)                0         \n",
            "_________________________________________________________________\n",
            "activation_1 (Activation)    (None, 10)                0         \n",
            "=================================================================\n",
            "Total params: 19,146\n",
            "Trainable params: 19,146\n",
            "Non-trainable params: 0\n",
            "_________________________________________________________________\n",
            "None\n"
          ],
          "name": "stdout"
        }
      ]
    },
    {
      "metadata": {
        "id": "OB56OEruJqOQ",
        "colab_type": "code",
        "colab": {
          "base_uri": "https://localhost:8080/",
          "height": 85
        },
        "outputId": "6ea2f282-2b05-4ec7-a2ce-63601d94a9da"
      },
      "cell_type": "code",
      "source": [
        "# reshape the images to 4D tensors\n",
        "x_train_data = train_data.reshape(-1, 28, 28, 1)\n",
        "y_train_data = np_utils.to_categorical(train_labels)\n",
        " \n",
        "print(np.shape(x_train_data))\n",
        "print(np.shape(y_train_data))\n",
        " \n",
        "x_test_data = test_data.reshape(-1, 28, 28, 1)\n",
        "y_test_data = np_utils.to_categorical(test_labels)\n",
        "print(np.shape(x_test_data))\n",
        "print(np.shape(y_test_data))"
      ],
      "execution_count": 10,
      "outputs": [
        {
          "output_type": "stream",
          "text": [
            "(60000, 28, 28, 1)\n",
            "(60000, 10)\n",
            "(10000, 28, 28, 1)\n",
            "(10000, 10)\n"
          ],
          "name": "stdout"
        }
      ]
    },
    {
      "metadata": {
        "id": "cf_gcvD-KISJ",
        "colab_type": "code",
        "colab": {}
      },
      "cell_type": "code",
      "source": [
        "number_of_epochs =50\n",
        "# learning schedule callback\n",
        "lrate = LearningRateScheduler(step_decay)\n",
        "callbacks_list = [lrate]"
      ],
      "execution_count": 0,
      "outputs": []
    },
    {
      "metadata": {
        "id": "cYosaEf3KZca",
        "colab_type": "code",
        "colab": {
          "base_uri": "https://localhost:8080/",
          "height": 1771
        },
        "outputId": "f2f34164-ce14-4f81-fec8-6d9671a8c25d"
      },
      "cell_type": "code",
      "source": [
        "model_original_data = getModel()\n",
        "SGD = keras.optimizers.SGD(lr=0.90,momentum = 0.1, decay = 0.0 , nesterov = False)\n",
        "model_original_data.compile(loss=keras.losses.categorical_crossentropy, optimizer=Adam(lr=1e-4), metrics=['accuracy'])\n",
        "model_original_data.fit(x_train_data, y_train_data,validation_split=0.23,epochs=50, batch_size = 16,verbose=1,callbacks=[annealer])"
      ],
      "execution_count": 16,
      "outputs": [
        {
          "output_type": "stream",
          "text": [
            "Train on 46200 samples, validate on 13800 samples\n",
            "Epoch 1/50\n",
            "46200/46200 [==============================] - 26s 557us/step - loss: 0.3612 - acc: 0.8907 - val_loss: 0.1513 - val_acc: 0.9589\n",
            "Epoch 2/50\n",
            "46200/46200 [==============================] - 26s 554us/step - loss: 0.1548 - acc: 0.9574 - val_loss: 0.1241 - val_acc: 0.9667\n",
            "Epoch 3/50\n",
            "46200/46200 [==============================] - 25s 551us/step - loss: 0.1255 - acc: 0.9671 - val_loss: 0.0982 - val_acc: 0.9778\n",
            "Epoch 4/50\n",
            "46200/46200 [==============================] - 25s 547us/step - loss: 0.1116 - acc: 0.9719 - val_loss: 0.0941 - val_acc: 0.9763\n",
            "Epoch 5/50\n",
            "46200/46200 [==============================] - 25s 549us/step - loss: 0.1019 - acc: 0.9749 - val_loss: 0.0988 - val_acc: 0.9772\n",
            "Epoch 6/50\n",
            "46200/46200 [==============================] - 26s 554us/step - loss: 0.0932 - acc: 0.9774 - val_loss: 0.0893 - val_acc: 0.9785\n",
            "Epoch 7/50\n",
            "46200/46200 [==============================] - 26s 556us/step - loss: 0.0880 - acc: 0.9789 - val_loss: 0.0886 - val_acc: 0.9807\n",
            "Epoch 8/50\n",
            "46200/46200 [==============================] - 25s 550us/step - loss: 0.0833 - acc: 0.9816 - val_loss: 0.0843 - val_acc: 0.9810\n",
            "Epoch 9/50\n",
            "46200/46200 [==============================] - 26s 556us/step - loss: 0.0798 - acc: 0.9821 - val_loss: 0.0748 - val_acc: 0.9843\n",
            "Epoch 10/50\n",
            "46200/46200 [==============================] - 25s 543us/step - loss: 0.0756 - acc: 0.9829 - val_loss: 0.0727 - val_acc: 0.9855\n",
            "Epoch 11/50\n",
            "46200/46200 [==============================] - 27s 576us/step - loss: 0.0727 - acc: 0.9844 - val_loss: 0.0708 - val_acc: 0.9858\n",
            "Epoch 12/50\n",
            "46200/46200 [==============================] - 26s 564us/step - loss: 0.0706 - acc: 0.9844 - val_loss: 0.0768 - val_acc: 0.9840\n",
            "Epoch 13/50\n",
            "46200/46200 [==============================] - 25s 544us/step - loss: 0.0686 - acc: 0.9853 - val_loss: 0.0736 - val_acc: 0.9840\n",
            "Epoch 14/50\n",
            "46200/46200 [==============================] - 25s 543us/step - loss: 0.0658 - acc: 0.9864 - val_loss: 0.0692 - val_acc: 0.9865\n",
            "Epoch 15/50\n",
            "46200/46200 [==============================] - 25s 544us/step - loss: 0.0639 - acc: 0.9866 - val_loss: 0.0713 - val_acc: 0.9853\n",
            "Epoch 16/50\n",
            "46200/46200 [==============================] - 25s 544us/step - loss: 0.0628 - acc: 0.9869 - val_loss: 0.0668 - val_acc: 0.9862\n",
            "Epoch 17/50\n",
            "46200/46200 [==============================] - 25s 540us/step - loss: 0.0613 - acc: 0.9877 - val_loss: 0.0693 - val_acc: 0.9859\n",
            "Epoch 18/50\n",
            "46200/46200 [==============================] - 25s 547us/step - loss: 0.0603 - acc: 0.9876 - val_loss: 0.0653 - val_acc: 0.9871\n",
            "Epoch 19/50\n",
            "46200/46200 [==============================] - 25s 539us/step - loss: 0.0585 - acc: 0.9881 - val_loss: 0.0668 - val_acc: 0.9867\n",
            "Epoch 20/50\n",
            "46200/46200 [==============================] - 25s 539us/step - loss: 0.0583 - acc: 0.9879 - val_loss: 0.0644 - val_acc: 0.9877\n",
            "Epoch 21/50\n",
            "46200/46200 [==============================] - 25s 537us/step - loss: 0.0562 - acc: 0.9895 - val_loss: 0.0655 - val_acc: 0.9870\n",
            "Epoch 22/50\n",
            "46200/46200 [==============================] - 25s 531us/step - loss: 0.0570 - acc: 0.9886 - val_loss: 0.0650 - val_acc: 0.9877\n",
            "Epoch 23/50\n",
            "46200/46200 [==============================] - 27s 581us/step - loss: 0.0556 - acc: 0.9890 - val_loss: 0.0673 - val_acc: 0.9869\n",
            "Epoch 24/50\n",
            "46200/46200 [==============================] - 29s 632us/step - loss: 0.0543 - acc: 0.9895 - val_loss: 0.0651 - val_acc: 0.9879\n",
            "Epoch 25/50\n",
            "46200/46200 [==============================] - 28s 605us/step - loss: 0.0538 - acc: 0.9895 - val_loss: 0.0645 - val_acc: 0.9876\n",
            "Epoch 26/50\n",
            "46200/46200 [==============================] - 29s 623us/step - loss: 0.0542 - acc: 0.9891 - val_loss: 0.0639 - val_acc: 0.9870\n",
            "Epoch 27/50\n",
            "46200/46200 [==============================] - 29s 635us/step - loss: 0.0538 - acc: 0.9894 - val_loss: 0.0644 - val_acc: 0.9880\n",
            "Epoch 28/50\n",
            "46200/46200 [==============================] - 29s 634us/step - loss: 0.0518 - acc: 0.9907 - val_loss: 0.0630 - val_acc: 0.9885\n",
            "Epoch 29/50\n",
            "46200/46200 [==============================] - 30s 650us/step - loss: 0.0522 - acc: 0.9904 - val_loss: 0.0634 - val_acc: 0.9883\n",
            "Epoch 30/50\n",
            "46200/46200 [==============================] - 30s 642us/step - loss: 0.0529 - acc: 0.9892 - val_loss: 0.0637 - val_acc: 0.9884\n",
            "Epoch 31/50\n",
            "46200/46200 [==============================] - 30s 641us/step - loss: 0.0508 - acc: 0.9910 - val_loss: 0.0623 - val_acc: 0.9880\n",
            "Epoch 32/50\n",
            "46200/46200 [==============================] - 30s 644us/step - loss: 0.0512 - acc: 0.9903 - val_loss: 0.0631 - val_acc: 0.9883\n",
            "Epoch 33/50\n",
            "46200/46200 [==============================] - 29s 624us/step - loss: 0.0505 - acc: 0.9906 - val_loss: 0.0625 - val_acc: 0.9879\n",
            "Epoch 34/50\n",
            "46200/46200 [==============================] - 30s 650us/step - loss: 0.0502 - acc: 0.9906 - val_loss: 0.0629 - val_acc: 0.9883\n",
            "Epoch 35/50\n",
            "46200/46200 [==============================] - 29s 632us/step - loss: 0.0511 - acc: 0.9903 - val_loss: 0.0628 - val_acc: 0.9884\n",
            "Epoch 36/50\n",
            "46200/46200 [==============================] - 29s 624us/step - loss: 0.0508 - acc: 0.9899 - val_loss: 0.0632 - val_acc: 0.9878\n",
            "Epoch 37/50\n",
            "46200/46200 [==============================] - 29s 630us/step - loss: 0.0488 - acc: 0.9907 - val_loss: 0.0630 - val_acc: 0.9883\n",
            "Epoch 38/50\n",
            "46200/46200 [==============================] - 29s 622us/step - loss: 0.0495 - acc: 0.9907 - val_loss: 0.0632 - val_acc: 0.9878\n",
            "Epoch 39/50\n",
            "46200/46200 [==============================] - 29s 629us/step - loss: 0.0487 - acc: 0.9913 - val_loss: 0.0628 - val_acc: 0.9884\n",
            "Epoch 40/50\n",
            "46200/46200 [==============================] - 29s 627us/step - loss: 0.0493 - acc: 0.9905 - val_loss: 0.0625 - val_acc: 0.9884\n",
            "Epoch 41/50\n",
            "46200/46200 [==============================] - 29s 618us/step - loss: 0.0493 - acc: 0.9907 - val_loss: 0.0624 - val_acc: 0.9880\n",
            "Epoch 42/50\n",
            "46200/46200 [==============================] - 29s 633us/step - loss: 0.0494 - acc: 0.9908 - val_loss: 0.0628 - val_acc: 0.9884\n",
            "Epoch 43/50\n",
            "46200/46200 [==============================] - 29s 625us/step - loss: 0.0493 - acc: 0.9906 - val_loss: 0.0623 - val_acc: 0.9885\n",
            "Epoch 44/50\n",
            "46200/46200 [==============================] - 29s 622us/step - loss: 0.0498 - acc: 0.9906 - val_loss: 0.0625 - val_acc: 0.9881\n",
            "Epoch 45/50\n",
            "46200/46200 [==============================] - 30s 646us/step - loss: 0.0482 - acc: 0.9913 - val_loss: 0.0623 - val_acc: 0.9883\n",
            "Epoch 46/50\n",
            "46200/46200 [==============================] - 29s 619us/step - loss: 0.0496 - acc: 0.9908 - val_loss: 0.0629 - val_acc: 0.9880\n",
            "Epoch 47/50\n",
            "46200/46200 [==============================] - 29s 631us/step - loss: 0.0486 - acc: 0.9911 - val_loss: 0.0625 - val_acc: 0.9880\n",
            "Epoch 48/50\n",
            "46200/46200 [==============================] - 29s 634us/step - loss: 0.0480 - acc: 0.9911 - val_loss: 0.0625 - val_acc: 0.9886\n",
            "Epoch 49/50\n",
            "46200/46200 [==============================] - 28s 605us/step - loss: 0.0484 - acc: 0.9909 - val_loss: 0.0624 - val_acc: 0.9883\n",
            "Epoch 50/50\n",
            "46200/46200 [==============================] - 28s 600us/step - loss: 0.0487 - acc: 0.9909 - val_loss: 0.0623 - val_acc: 0.9882\n"
          ],
          "name": "stdout"
        },
        {
          "output_type": "execute_result",
          "data": {
            "text/plain": [
              "<keras.callbacks.History at 0x7f7dd182b400>"
            ]
          },
          "metadata": {
            "tags": []
          },
          "execution_count": 16
        }
      ]
    },
    {
      "metadata": {
        "id": "YQ2pTPTCQ-1o",
        "colab_type": "code",
        "colab": {
          "base_uri": "https://localhost:8080/",
          "height": 1771
        },
        "outputId": "bed96159-6461-4246-c01c-69d20e7325e5"
      },
      "cell_type": "code",
      "source": [
        "model_original_data.fit(x_train_data, y_train_data,validation_split=0.23,epochs=50, batch_size = 16,verbose=1,callbacks=[annealer])"
      ],
      "execution_count": 17,
      "outputs": [
        {
          "output_type": "stream",
          "text": [
            "Train on 46200 samples, validate on 13800 samples\n",
            "Epoch 1/50\n",
            "46200/46200 [==============================] - 28s 598us/step - loss: 0.0873 - acc: 0.9794 - val_loss: 0.0746 - val_acc: 0.9849\n",
            "Epoch 2/50\n",
            "46200/46200 [==============================] - 28s 600us/step - loss: 0.0829 - acc: 0.9815 - val_loss: 0.0895 - val_acc: 0.9814\n",
            "Epoch 3/50\n",
            "46200/46200 [==============================] - 28s 602us/step - loss: 0.0793 - acc: 0.9828 - val_loss: 0.0725 - val_acc: 0.9860\n",
            "Epoch 4/50\n",
            "46200/46200 [==============================] - 28s 601us/step - loss: 0.0761 - acc: 0.9842 - val_loss: 0.0737 - val_acc: 0.9862\n",
            "Epoch 5/50\n",
            "46200/46200 [==============================] - 28s 602us/step - loss: 0.0731 - acc: 0.9851 - val_loss: 0.0772 - val_acc: 0.9844\n",
            "Epoch 6/50\n",
            "46200/46200 [==============================] - 28s 602us/step - loss: 0.0686 - acc: 0.9860 - val_loss: 0.0748 - val_acc: 0.9859\n",
            "Epoch 7/50\n",
            "46200/46200 [==============================] - 29s 630us/step - loss: 0.0663 - acc: 0.9870 - val_loss: 0.0695 - val_acc: 0.9885\n",
            "Epoch 8/50\n",
            "46200/46200 [==============================] - 29s 633us/step - loss: 0.0641 - acc: 0.9874 - val_loss: 0.0694 - val_acc: 0.9873\n",
            "Epoch 9/50\n",
            "46200/46200 [==============================] - 29s 619us/step - loss: 0.0610 - acc: 0.9882 - val_loss: 0.0713 - val_acc: 0.9859\n",
            "Epoch 10/50\n",
            "46200/46200 [==============================] - 29s 635us/step - loss: 0.0593 - acc: 0.9884 - val_loss: 0.0680 - val_acc: 0.9878\n",
            "Epoch 11/50\n",
            "46200/46200 [==============================] - 29s 635us/step - loss: 0.0587 - acc: 0.9893 - val_loss: 0.0710 - val_acc: 0.9864\n",
            "Epoch 12/50\n",
            "46200/46200 [==============================] - 29s 635us/step - loss: 0.0586 - acc: 0.9890 - val_loss: 0.0633 - val_acc: 0.9888\n",
            "Epoch 13/50\n",
            "46200/46200 [==============================] - 29s 631us/step - loss: 0.0553 - acc: 0.9899 - val_loss: 0.0646 - val_acc: 0.9883\n",
            "Epoch 14/50\n",
            "46200/46200 [==============================] - 29s 623us/step - loss: 0.0529 - acc: 0.9906 - val_loss: 0.0645 - val_acc: 0.9885\n",
            "Epoch 15/50\n",
            "46200/46200 [==============================] - 29s 637us/step - loss: 0.0519 - acc: 0.9909 - val_loss: 0.0648 - val_acc: 0.9879\n",
            "Epoch 16/50\n",
            "46200/46200 [==============================] - 29s 622us/step - loss: 0.0510 - acc: 0.9910 - val_loss: 0.0647 - val_acc: 0.9892\n",
            "Epoch 17/50\n",
            "46200/46200 [==============================] - 29s 635us/step - loss: 0.0512 - acc: 0.9910 - val_loss: 0.0647 - val_acc: 0.9883\n",
            "Epoch 18/50\n",
            "46200/46200 [==============================] - 29s 630us/step - loss: 0.0498 - acc: 0.9914 - val_loss: 0.0628 - val_acc: 0.9883\n",
            "Epoch 19/50\n",
            "46200/46200 [==============================] - 29s 626us/step - loss: 0.0495 - acc: 0.9914 - val_loss: 0.0629 - val_acc: 0.9890\n",
            "Epoch 20/50\n",
            "46200/46200 [==============================] - 29s 637us/step - loss: 0.0473 - acc: 0.9922 - val_loss: 0.0627 - val_acc: 0.9894\n",
            "Epoch 21/50\n",
            "46200/46200 [==============================] - 29s 617us/step - loss: 0.0464 - acc: 0.9922 - val_loss: 0.0630 - val_acc: 0.9887\n",
            "Epoch 22/50\n",
            "46200/46200 [==============================] - 31s 664us/step - loss: 0.0458 - acc: 0.9924 - val_loss: 0.0621 - val_acc: 0.9890\n",
            "Epoch 23/50\n",
            "46200/46200 [==============================] - 30s 644us/step - loss: 0.0449 - acc: 0.9930 - val_loss: 0.0621 - val_acc: 0.9889\n",
            "Epoch 24/50\n",
            "46200/46200 [==============================] - 30s 643us/step - loss: 0.0455 - acc: 0.9923 - val_loss: 0.0611 - val_acc: 0.9891\n",
            "Epoch 25/50\n",
            "46200/46200 [==============================] - 30s 646us/step - loss: 0.0440 - acc: 0.9927 - val_loss: 0.0607 - val_acc: 0.9891\n",
            "Epoch 26/50\n",
            "46200/46200 [==============================] - 29s 625us/step - loss: 0.0438 - acc: 0.9927 - val_loss: 0.0618 - val_acc: 0.9886\n",
            "Epoch 27/50\n",
            "46200/46200 [==============================] - 30s 641us/step - loss: 0.0429 - acc: 0.9931 - val_loss: 0.0624 - val_acc: 0.9883\n",
            "Epoch 28/50\n",
            "46200/46200 [==============================] - 29s 630us/step - loss: 0.0433 - acc: 0.9931 - val_loss: 0.0596 - val_acc: 0.9896\n",
            "Epoch 29/50\n",
            "46200/46200 [==============================] - 29s 632us/step - loss: 0.0433 - acc: 0.9932 - val_loss: 0.0607 - val_acc: 0.9890\n",
            "Epoch 30/50\n",
            "46200/46200 [==============================] - 30s 642us/step - loss: 0.0418 - acc: 0.9934 - val_loss: 0.0609 - val_acc: 0.9887\n",
            "Epoch 31/50\n",
            "46200/46200 [==============================] - 28s 609us/step - loss: 0.0425 - acc: 0.9935 - val_loss: 0.0600 - val_acc: 0.9896\n",
            "Epoch 32/50\n",
            "46200/46200 [==============================] - 28s 614us/step - loss: 0.0430 - acc: 0.9925 - val_loss: 0.0610 - val_acc: 0.9883\n",
            "Epoch 33/50\n",
            "46200/46200 [==============================] - 28s 605us/step - loss: 0.0425 - acc: 0.9936 - val_loss: 0.0609 - val_acc: 0.9892\n",
            "Epoch 34/50\n",
            "46200/46200 [==============================] - 28s 600us/step - loss: 0.0424 - acc: 0.9929 - val_loss: 0.0603 - val_acc: 0.9891\n",
            "Epoch 35/50\n",
            "46200/46200 [==============================] - 29s 618us/step - loss: 0.0416 - acc: 0.9937 - val_loss: 0.0597 - val_acc: 0.9894\n",
            "Epoch 36/50\n",
            "46200/46200 [==============================] - 30s 650us/step - loss: 0.0421 - acc: 0.9931 - val_loss: 0.0600 - val_acc: 0.9891\n",
            "Epoch 37/50\n",
            "46200/46200 [==============================] - 29s 633us/step - loss: 0.0415 - acc: 0.9934 - val_loss: 0.0595 - val_acc: 0.9891\n",
            "Epoch 38/50\n",
            "46200/46200 [==============================] - 29s 636us/step - loss: 0.0406 - acc: 0.9939 - val_loss: 0.0599 - val_acc: 0.9891\n",
            "Epoch 39/50\n",
            "46200/46200 [==============================] - 30s 641us/step - loss: 0.0405 - acc: 0.9938 - val_loss: 0.0592 - val_acc: 0.9895\n",
            "Epoch 40/50\n",
            "46200/46200 [==============================] - 29s 625us/step - loss: 0.0409 - acc: 0.9937 - val_loss: 0.0598 - val_acc: 0.9893\n",
            "Epoch 41/50\n",
            "46200/46200 [==============================] - 30s 639us/step - loss: 0.0400 - acc: 0.9940 - val_loss: 0.0593 - val_acc: 0.9893\n",
            "Epoch 42/50\n",
            "46200/46200 [==============================] - 29s 624us/step - loss: 0.0409 - acc: 0.9939 - val_loss: 0.0596 - val_acc: 0.9895\n",
            "Epoch 43/50\n",
            "46200/46200 [==============================] - 30s 645us/step - loss: 0.0405 - acc: 0.9935 - val_loss: 0.0593 - val_acc: 0.9891\n",
            "Epoch 44/50\n",
            "46200/46200 [==============================] - 29s 636us/step - loss: 0.0401 - acc: 0.9942 - val_loss: 0.0594 - val_acc: 0.9893\n",
            "Epoch 45/50\n",
            "46200/46200 [==============================] - 29s 617us/step - loss: 0.0400 - acc: 0.9938 - val_loss: 0.0594 - val_acc: 0.9893\n",
            "Epoch 46/50\n",
            "46200/46200 [==============================] - 29s 637us/step - loss: 0.0390 - acc: 0.9943 - val_loss: 0.0595 - val_acc: 0.9900\n",
            "Epoch 47/50\n",
            "46200/46200 [==============================] - 29s 629us/step - loss: 0.0410 - acc: 0.9935 - val_loss: 0.0593 - val_acc: 0.9896\n",
            "Epoch 48/50\n",
            "46200/46200 [==============================] - 29s 623us/step - loss: 0.0400 - acc: 0.9943 - val_loss: 0.0597 - val_acc: 0.9894\n",
            "Epoch 49/50\n",
            "46200/46200 [==============================] - 30s 640us/step - loss: 0.0409 - acc: 0.9936 - val_loss: 0.0595 - val_acc: 0.9896\n",
            "Epoch 50/50\n",
            "46200/46200 [==============================] - 29s 619us/step - loss: 0.0404 - acc: 0.9944 - val_loss: 0.0594 - val_acc: 0.9897\n"
          ],
          "name": "stdout"
        },
        {
          "output_type": "execute_result",
          "data": {
            "text/plain": [
              "<keras.callbacks.History at 0x7f7dd19704a8>"
            ]
          },
          "metadata": {
            "tags": []
          },
          "execution_count": 17
        }
      ]
    },
    {
      "metadata": {
        "id": "DGQJuD9zVnA9",
        "colab_type": "code",
        "colab": {
          "base_uri": "https://localhost:8080/",
          "height": 1091
        },
        "outputId": "454bde7d-2fe3-47e8-f033-11a2529a87c4"
      },
      "cell_type": "code",
      "source": [
        "model_original_data.fit(x_train_data, y_train_data,validation_split=0.23,epochs=30, batch_size = 16,verbose=1,callbacks=[annealer])"
      ],
      "execution_count": 18,
      "outputs": [
        {
          "output_type": "stream",
          "text": [
            "Train on 46200 samples, validate on 13800 samples\n",
            "Epoch 1/30\n",
            "46200/46200 [==============================] - 30s 646us/step - loss: 0.0758 - acc: 0.9826 - val_loss: 0.0957 - val_acc: 0.9788\n",
            "Epoch 2/30\n",
            "46200/46200 [==============================] - 29s 638us/step - loss: 0.0728 - acc: 0.9848 - val_loss: 0.0875 - val_acc: 0.9810\n",
            "Epoch 3/30\n",
            "46200/46200 [==============================] - 29s 637us/step - loss: 0.0701 - acc: 0.9858 - val_loss: 0.0747 - val_acc: 0.9863\n",
            "Epoch 4/30\n",
            "46200/46200 [==============================] - 30s 653us/step - loss: 0.0664 - acc: 0.9872 - val_loss: 0.0716 - val_acc: 0.9872\n",
            "Epoch 5/30\n",
            "46200/46200 [==============================] - 29s 624us/step - loss: 0.0655 - acc: 0.9873 - val_loss: 0.0719 - val_acc: 0.9870\n",
            "Epoch 6/30\n",
            "46200/46200 [==============================] - 30s 640us/step - loss: 0.0633 - acc: 0.9880 - val_loss: 0.0729 - val_acc: 0.9866\n",
            "Epoch 7/30\n",
            "46200/46200 [==============================] - 30s 640us/step - loss: 0.0617 - acc: 0.9881 - val_loss: 0.0675 - val_acc: 0.9871\n",
            "Epoch 8/30\n",
            "46200/46200 [==============================] - 29s 618us/step - loss: 0.0596 - acc: 0.9890 - val_loss: 0.0702 - val_acc: 0.9873\n",
            "Epoch 9/30\n",
            "46200/46200 [==============================] - 30s 639us/step - loss: 0.0559 - acc: 0.9900 - val_loss: 0.0652 - val_acc: 0.9886\n",
            "Epoch 10/30\n",
            "46200/46200 [==============================] - 29s 625us/step - loss: 0.0552 - acc: 0.9898 - val_loss: 0.0667 - val_acc: 0.9872\n",
            "Epoch 11/30\n",
            "46200/46200 [==============================] - 28s 602us/step - loss: 0.0540 - acc: 0.9907 - val_loss: 0.0670 - val_acc: 0.9872\n",
            "Epoch 12/30\n",
            "46200/46200 [==============================] - 28s 598us/step - loss: 0.0509 - acc: 0.9917 - val_loss: 0.0704 - val_acc: 0.9869\n",
            "Epoch 13/30\n",
            "46200/46200 [==============================] - 28s 600us/step - loss: 0.0505 - acc: 0.9915 - val_loss: 0.0661 - val_acc: 0.9887\n",
            "Epoch 14/30\n",
            "46200/46200 [==============================] - 28s 617us/step - loss: 0.0493 - acc: 0.9920 - val_loss: 0.0690 - val_acc: 0.9862\n",
            "Epoch 15/30\n",
            "46200/46200 [==============================] - 28s 600us/step - loss: 0.0468 - acc: 0.9927 - val_loss: 0.0639 - val_acc: 0.9884\n",
            "Epoch 16/30\n",
            "46200/46200 [==============================] - 28s 598us/step - loss: 0.0464 - acc: 0.9923 - val_loss: 0.0617 - val_acc: 0.9896\n",
            "Epoch 17/30\n",
            "46200/46200 [==============================] - 28s 598us/step - loss: 0.0458 - acc: 0.9925 - val_loss: 0.0616 - val_acc: 0.9893\n",
            "Epoch 18/30\n",
            "46200/46200 [==============================] - 28s 597us/step - loss: 0.0439 - acc: 0.9936 - val_loss: 0.0628 - val_acc: 0.9886\n",
            "Epoch 19/30\n",
            "46200/46200 [==============================] - 27s 594us/step - loss: 0.0449 - acc: 0.9926 - val_loss: 0.0607 - val_acc: 0.9893\n",
            "Epoch 20/30\n",
            "46200/46200 [==============================] - 27s 588us/step - loss: 0.0435 - acc: 0.9935 - val_loss: 0.0604 - val_acc: 0.9893\n",
            "Epoch 21/30\n",
            "46200/46200 [==============================] - 27s 588us/step - loss: 0.0411 - acc: 0.9938 - val_loss: 0.0620 - val_acc: 0.9888\n",
            "Epoch 22/30\n",
            "46200/46200 [==============================] - 27s 593us/step - loss: 0.0410 - acc: 0.9941 - val_loss: 0.0622 - val_acc: 0.9889\n",
            "Epoch 23/30\n",
            "46200/46200 [==============================] - 27s 593us/step - loss: 0.0403 - acc: 0.9938 - val_loss: 0.0609 - val_acc: 0.9893\n",
            "Epoch 24/30\n",
            "46200/46200 [==============================] - 27s 592us/step - loss: 0.0408 - acc: 0.9942 - val_loss: 0.0599 - val_acc: 0.9899\n",
            "Epoch 25/30\n",
            "46200/46200 [==============================] - 28s 599us/step - loss: 0.0400 - acc: 0.9943 - val_loss: 0.0617 - val_acc: 0.9891\n",
            "Epoch 26/30\n",
            "46200/46200 [==============================] - 28s 605us/step - loss: 0.0400 - acc: 0.9941 - val_loss: 0.0593 - val_acc: 0.9893\n",
            "Epoch 27/30\n",
            "46200/46200 [==============================] - 27s 587us/step - loss: 0.0390 - acc: 0.9945 - val_loss: 0.0601 - val_acc: 0.9895\n",
            "Epoch 28/30\n",
            "46200/46200 [==============================] - 27s 589us/step - loss: 0.0391 - acc: 0.9946 - val_loss: 0.0603 - val_acc: 0.9896\n",
            "Epoch 29/30\n",
            "46200/46200 [==============================] - 27s 589us/step - loss: 0.0383 - acc: 0.9944 - val_loss: 0.0595 - val_acc: 0.9892\n",
            "Epoch 30/30\n",
            "46200/46200 [==============================] - 27s 589us/step - loss: 0.0385 - acc: 0.9944 - val_loss: 0.0593 - val_acc: 0.9897\n"
          ],
          "name": "stdout"
        },
        {
          "output_type": "execute_result",
          "data": {
            "text/plain": [
              "<keras.callbacks.History at 0x7f7dd1c22c50>"
            ]
          },
          "metadata": {
            "tags": []
          },
          "execution_count": 18
        }
      ]
    },
    {
      "metadata": {
        "id": "OLbR2cQdbtVR",
        "colab_type": "code",
        "colab": {
          "base_uri": "https://localhost:8080/",
          "height": 1091
        },
        "outputId": "8784cc51-1039-4314-e89c-ec54cf38cbf9"
      },
      "cell_type": "code",
      "source": [
        "model_original_data.fit(x_train_data, y_train_data,validation_split=0.30,epochs=30, batch_size = 16,verbose=1,callbacks=[annealer])"
      ],
      "execution_count": 20,
      "outputs": [
        {
          "output_type": "stream",
          "text": [
            "Train on 42000 samples, validate on 18000 samples\n",
            "Epoch 1/30\n",
            "42000/42000 [==============================] - 25s 601us/step - loss: 0.0702 - acc: 0.9852 - val_loss: 0.0702 - val_acc: 0.9862\n",
            "Epoch 2/30\n",
            "42000/42000 [==============================] - 25s 592us/step - loss: 0.0687 - acc: 0.9857 - val_loss: 0.0713 - val_acc: 0.9865\n",
            "Epoch 3/30\n",
            "42000/42000 [==============================] - 26s 630us/step - loss: 0.0674 - acc: 0.9870 - val_loss: 0.0687 - val_acc: 0.9882\n",
            "Epoch 4/30\n",
            "42000/42000 [==============================] - 27s 633us/step - loss: 0.0669 - acc: 0.9865 - val_loss: 0.0781 - val_acc: 0.9847\n",
            "Epoch 5/30\n",
            "42000/42000 [==============================] - 27s 637us/step - loss: 0.0620 - acc: 0.9885 - val_loss: 0.0710 - val_acc: 0.9871\n",
            "Epoch 6/30\n",
            "42000/42000 [==============================] - 26s 623us/step - loss: 0.0598 - acc: 0.9892 - val_loss: 0.0673 - val_acc: 0.9886\n",
            "Epoch 7/30\n",
            "42000/42000 [==============================] - 26s 617us/step - loss: 0.0568 - acc: 0.9892 - val_loss: 0.0708 - val_acc: 0.9875\n",
            "Epoch 8/30\n",
            "42000/42000 [==============================] - 26s 619us/step - loss: 0.0553 - acc: 0.9905 - val_loss: 0.0661 - val_acc: 0.9884\n",
            "Epoch 9/30\n",
            "42000/42000 [==============================] - 26s 617us/step - loss: 0.0539 - acc: 0.9901 - val_loss: 0.0644 - val_acc: 0.9891\n",
            "Epoch 10/30\n",
            "42000/42000 [==============================] - 26s 616us/step - loss: 0.0517 - acc: 0.9914 - val_loss: 0.0657 - val_acc: 0.9888\n",
            "Epoch 11/30\n",
            "42000/42000 [==============================] - 27s 637us/step - loss: 0.0507 - acc: 0.9914 - val_loss: 0.0641 - val_acc: 0.9885\n",
            "Epoch 12/30\n",
            "42000/42000 [==============================] - 26s 612us/step - loss: 0.0481 - acc: 0.9924 - val_loss: 0.0652 - val_acc: 0.9883\n",
            "Epoch 13/30\n",
            "42000/42000 [==============================] - 26s 611us/step - loss: 0.0481 - acc: 0.9919 - val_loss: 0.0616 - val_acc: 0.9894\n",
            "Epoch 14/30\n",
            "42000/42000 [==============================] - 26s 609us/step - loss: 0.0453 - acc: 0.9930 - val_loss: 0.0611 - val_acc: 0.9897\n",
            "Epoch 15/30\n",
            "42000/42000 [==============================] - 26s 609us/step - loss: 0.0460 - acc: 0.9921 - val_loss: 0.0604 - val_acc: 0.9894\n",
            "Epoch 16/30\n",
            "42000/42000 [==============================] - 26s 610us/step - loss: 0.0449 - acc: 0.9926 - val_loss: 0.0588 - val_acc: 0.9905\n",
            "Epoch 17/30\n",
            "42000/42000 [==============================] - 26s 608us/step - loss: 0.0440 - acc: 0.9930 - val_loss: 0.0592 - val_acc: 0.9896\n",
            "Epoch 18/30\n",
            "42000/42000 [==============================] - 25s 595us/step - loss: 0.0419 - acc: 0.9937 - val_loss: 0.0614 - val_acc: 0.9892\n",
            "Epoch 19/30\n",
            "42000/42000 [==============================] - 25s 597us/step - loss: 0.0408 - acc: 0.9942 - val_loss: 0.0592 - val_acc: 0.9904\n",
            "Epoch 20/30\n",
            "42000/42000 [==============================] - 25s 606us/step - loss: 0.0406 - acc: 0.9939 - val_loss: 0.0576 - val_acc: 0.9904\n",
            "Epoch 21/30\n",
            "42000/42000 [==============================] - 27s 635us/step - loss: 0.0389 - acc: 0.9946 - val_loss: 0.0587 - val_acc: 0.9902\n",
            "Epoch 22/30\n",
            "42000/42000 [==============================] - 27s 640us/step - loss: 0.0403 - acc: 0.9941 - val_loss: 0.0585 - val_acc: 0.9898\n",
            "Epoch 23/30\n",
            "42000/42000 [==============================] - 27s 643us/step - loss: 0.0383 - acc: 0.9945 - val_loss: 0.0578 - val_acc: 0.9898\n",
            "Epoch 24/30\n",
            "42000/42000 [==============================] - 26s 620us/step - loss: 0.0379 - acc: 0.9946 - val_loss: 0.0560 - val_acc: 0.9906\n",
            "Epoch 25/30\n",
            "42000/42000 [==============================] - 26s 620us/step - loss: 0.0381 - acc: 0.9947 - val_loss: 0.0570 - val_acc: 0.9904\n",
            "Epoch 26/30\n",
            "42000/42000 [==============================] - 26s 618us/step - loss: 0.0378 - acc: 0.9951 - val_loss: 0.0575 - val_acc: 0.9896\n",
            "Epoch 27/30\n",
            "42000/42000 [==============================] - 26s 618us/step - loss: 0.0384 - acc: 0.9941 - val_loss: 0.0573 - val_acc: 0.9902\n",
            "Epoch 28/30\n",
            "42000/42000 [==============================] - 26s 616us/step - loss: 0.0375 - acc: 0.9947 - val_loss: 0.0575 - val_acc: 0.9903\n",
            "Epoch 29/30\n",
            "42000/42000 [==============================] - 26s 616us/step - loss: 0.0372 - acc: 0.9952 - val_loss: 0.0566 - val_acc: 0.9902\n",
            "Epoch 30/30\n",
            "42000/42000 [==============================] - 26s 616us/step - loss: 0.0369 - acc: 0.9951 - val_loss: 0.0571 - val_acc: 0.9901\n"
          ],
          "name": "stdout"
        },
        {
          "output_type": "execute_result",
          "data": {
            "text/plain": [
              "<keras.callbacks.History at 0x7f7dd1c224e0>"
            ]
          },
          "metadata": {
            "tags": []
          },
          "execution_count": 20
        }
      ]
    },
    {
      "metadata": {
        "id": "qmsnbfQ0fJFv",
        "colab_type": "code",
        "colab": {
          "base_uri": "https://localhost:8080/",
          "height": 1091
        },
        "outputId": "31683462-bc5d-43f1-e846-72822d5fa67d"
      },
      "cell_type": "code",
      "source": [
        "model_original_data.fit(x_train_data, y_train_data,validation_split=0.13,epochs=30, batch_size = 16,verbose=1,callbacks=[annealer])"
      ],
      "execution_count": 21,
      "outputs": [
        {
          "output_type": "stream",
          "text": [
            "Train on 52200 samples, validate on 7800 samples\n",
            "Epoch 1/30\n",
            "52200/52200 [==============================] - 30s 580us/step - loss: 0.0734 - acc: 0.9846 - val_loss: 0.0804 - val_acc: 0.9836\n",
            "Epoch 2/30\n",
            "52200/52200 [==============================] - 30s 572us/step - loss: 0.0707 - acc: 0.9851 - val_loss: 0.0704 - val_acc: 0.9867\n",
            "Epoch 3/30\n",
            "52200/52200 [==============================] - 32s 605us/step - loss: 0.0696 - acc: 0.9857 - val_loss: 0.0738 - val_acc: 0.9864\n",
            "Epoch 4/30\n",
            "52200/52200 [==============================] - 30s 572us/step - loss: 0.0662 - acc: 0.9872 - val_loss: 0.0697 - val_acc: 0.9868\n",
            "Epoch 5/30\n",
            "52200/52200 [==============================] - 30s 572us/step - loss: 0.0628 - acc: 0.9880 - val_loss: 0.0698 - val_acc: 0.9882\n",
            "Epoch 6/30\n",
            "52200/52200 [==============================] - 31s 588us/step - loss: 0.0621 - acc: 0.9881 - val_loss: 0.0664 - val_acc: 0.9890\n",
            "Epoch 7/30\n",
            "52200/52200 [==============================] - 31s 591us/step - loss: 0.0599 - acc: 0.9887 - val_loss: 0.0667 - val_acc: 0.9876\n",
            "Epoch 8/30\n",
            "52200/52200 [==============================] - 30s 583us/step - loss: 0.0571 - acc: 0.9899 - val_loss: 0.0679 - val_acc: 0.9888\n",
            "Epoch 9/30\n",
            "52200/52200 [==============================] - 30s 578us/step - loss: 0.0528 - acc: 0.9910 - val_loss: 0.0660 - val_acc: 0.9885\n",
            "Epoch 10/30\n",
            "52200/52200 [==============================] - 30s 576us/step - loss: 0.0518 - acc: 0.9907 - val_loss: 0.0633 - val_acc: 0.9883\n",
            "Epoch 11/30\n",
            "52200/52200 [==============================] - 31s 589us/step - loss: 0.0504 - acc: 0.9911 - val_loss: 0.0633 - val_acc: 0.9887\n",
            "Epoch 12/30\n",
            "52200/52200 [==============================] - 30s 579us/step - loss: 0.0489 - acc: 0.9915 - val_loss: 0.0610 - val_acc: 0.9888\n",
            "Epoch 13/30\n",
            "52200/52200 [==============================] - 30s 581us/step - loss: 0.0492 - acc: 0.9918 - val_loss: 0.0659 - val_acc: 0.9874\n",
            "Epoch 14/30\n",
            "52200/52200 [==============================] - 30s 583us/step - loss: 0.0456 - acc: 0.9927 - val_loss: 0.0626 - val_acc: 0.9874\n",
            "Epoch 15/30\n",
            "52200/52200 [==============================] - 30s 583us/step - loss: 0.0443 - acc: 0.9928 - val_loss: 0.0589 - val_acc: 0.9896\n",
            "Epoch 16/30\n",
            "52200/52200 [==============================] - 31s 585us/step - loss: 0.0447 - acc: 0.9930 - val_loss: 0.0585 - val_acc: 0.9897\n",
            "Epoch 17/30\n",
            "52200/52200 [==============================] - 31s 587us/step - loss: 0.0437 - acc: 0.9927 - val_loss: 0.0588 - val_acc: 0.9897\n",
            "Epoch 18/30\n",
            "52200/52200 [==============================] - 31s 588us/step - loss: 0.0429 - acc: 0.9933 - val_loss: 0.0600 - val_acc: 0.9897\n",
            "Epoch 19/30\n",
            "52200/52200 [==============================] - 31s 586us/step - loss: 0.0415 - acc: 0.9930 - val_loss: 0.0590 - val_acc: 0.9897\n",
            "Epoch 20/30\n",
            "52200/52200 [==============================] - 31s 586us/step - loss: 0.0410 - acc: 0.9935 - val_loss: 0.0572 - val_acc: 0.9899\n",
            "Epoch 21/30\n",
            "52200/52200 [==============================] - 31s 594us/step - loss: 0.0406 - acc: 0.9937 - val_loss: 0.0565 - val_acc: 0.9908\n",
            "Epoch 22/30\n",
            "52200/52200 [==============================] - 31s 587us/step - loss: 0.0408 - acc: 0.9935 - val_loss: 0.0578 - val_acc: 0.9903\n",
            "Epoch 23/30\n",
            "52200/52200 [==============================] - 31s 588us/step - loss: 0.0386 - acc: 0.9944 - val_loss: 0.0562 - val_acc: 0.9908\n",
            "Epoch 24/30\n",
            "52200/52200 [==============================] - 31s 587us/step - loss: 0.0387 - acc: 0.9944 - val_loss: 0.0570 - val_acc: 0.9895\n",
            "Epoch 25/30\n",
            "52200/52200 [==============================] - 31s 587us/step - loss: 0.0381 - acc: 0.9945 - val_loss: 0.0559 - val_acc: 0.9899\n",
            "Epoch 26/30\n",
            "52200/52200 [==============================] - 31s 588us/step - loss: 0.0376 - acc: 0.9947 - val_loss: 0.0567 - val_acc: 0.9901\n",
            "Epoch 27/30\n",
            "52200/52200 [==============================] - 31s 589us/step - loss: 0.0367 - acc: 0.9950 - val_loss: 0.0567 - val_acc: 0.9906\n",
            "Epoch 28/30\n",
            "52200/52200 [==============================] - 31s 589us/step - loss: 0.0363 - acc: 0.9948 - val_loss: 0.0555 - val_acc: 0.9905\n",
            "Epoch 29/30\n",
            "52200/52200 [==============================] - 31s 586us/step - loss: 0.0361 - acc: 0.9951 - val_loss: 0.0556 - val_acc: 0.9909\n",
            "Epoch 30/30\n",
            "52200/52200 [==============================] - 31s 588us/step - loss: 0.0371 - acc: 0.9940 - val_loss: 0.0561 - val_acc: 0.9899\n"
          ],
          "name": "stdout"
        },
        {
          "output_type": "execute_result",
          "data": {
            "text/plain": [
              "<keras.callbacks.History at 0x7f7dd1c22fd0>"
            ]
          },
          "metadata": {
            "tags": []
          },
          "execution_count": 21
        }
      ]
    },
    {
      "metadata": {
        "id": "gIKk8J8Wi1a9",
        "colab_type": "code",
        "colab": {
          "base_uri": "https://localhost:8080/",
          "height": 1771
        },
        "outputId": "334f4ca7-f2c9-43a0-9863-57dbb1853b8d"
      },
      "cell_type": "code",
      "source": [
        "model_original_data.fit(x_train_data, y_train_data,validation_split=0.30,epochs=50, batch_size = 8,verbose=1,callbacks=[annealer])"
      ],
      "execution_count": 22,
      "outputs": [
        {
          "output_type": "stream",
          "text": [
            "Train on 42000 samples, validate on 18000 samples\n",
            "Epoch 1/50\n",
            "42000/42000 [==============================] - 52s 1ms/step - loss: 0.0848 - acc: 0.9802 - val_loss: 0.0680 - val_acc: 0.9869\n",
            "Epoch 2/50\n",
            "42000/42000 [==============================] - 52s 1ms/step - loss: 0.0792 - acc: 0.9830 - val_loss: 0.0726 - val_acc: 0.9862\n",
            "Epoch 3/50\n",
            "42000/42000 [==============================] - 52s 1ms/step - loss: 0.0780 - acc: 0.9840 - val_loss: 0.0734 - val_acc: 0.9864\n",
            "Epoch 4/50\n",
            "42000/42000 [==============================] - 53s 1ms/step - loss: 0.0760 - acc: 0.9856 - val_loss: 0.0712 - val_acc: 0.9878\n",
            "Epoch 5/50\n",
            "42000/42000 [==============================] - 53s 1ms/step - loss: 0.0719 - acc: 0.9862 - val_loss: 0.0768 - val_acc: 0.9851\n",
            "Epoch 6/50\n",
            "42000/42000 [==============================] - 53s 1ms/step - loss: 0.0682 - acc: 0.9869 - val_loss: 0.0684 - val_acc: 0.9884\n",
            "Epoch 7/50\n",
            "42000/42000 [==============================] - 53s 1ms/step - loss: 0.0653 - acc: 0.9876 - val_loss: 0.0712 - val_acc: 0.9864\n",
            "Epoch 8/50\n",
            "42000/42000 [==============================] - 53s 1ms/step - loss: 0.0620 - acc: 0.9895 - val_loss: 0.0656 - val_acc: 0.9897\n",
            "Epoch 9/50\n",
            "42000/42000 [==============================] - 52s 1ms/step - loss: 0.0606 - acc: 0.9885 - val_loss: 0.0682 - val_acc: 0.9879\n",
            "Epoch 10/50\n",
            "42000/42000 [==============================] - 53s 1ms/step - loss: 0.0561 - acc: 0.9908 - val_loss: 0.0662 - val_acc: 0.9880\n",
            "Epoch 11/50\n",
            "42000/42000 [==============================] - 53s 1ms/step - loss: 0.0549 - acc: 0.9904 - val_loss: 0.0648 - val_acc: 0.9883\n",
            "Epoch 12/50\n",
            "42000/42000 [==============================] - 53s 1ms/step - loss: 0.0519 - acc: 0.9917 - val_loss: 0.0632 - val_acc: 0.9888\n",
            "Epoch 13/50\n",
            "42000/42000 [==============================] - 54s 1ms/step - loss: 0.0500 - acc: 0.9919 - val_loss: 0.0659 - val_acc: 0.9883\n",
            "Epoch 14/50\n",
            "42000/42000 [==============================] - 53s 1ms/step - loss: 0.0480 - acc: 0.9927 - val_loss: 0.0603 - val_acc: 0.9892\n",
            "Epoch 15/50\n",
            "42000/42000 [==============================] - 53s 1ms/step - loss: 0.0469 - acc: 0.9922 - val_loss: 0.0595 - val_acc: 0.9892\n",
            "Epoch 16/50\n",
            "42000/42000 [==============================] - 54s 1ms/step - loss: 0.0445 - acc: 0.9930 - val_loss: 0.0584 - val_acc: 0.9895\n",
            "Epoch 17/50\n",
            "42000/42000 [==============================] - 54s 1ms/step - loss: 0.0433 - acc: 0.9933 - val_loss: 0.0609 - val_acc: 0.9887\n",
            "Epoch 18/50\n",
            "42000/42000 [==============================] - 53s 1ms/step - loss: 0.0428 - acc: 0.9939 - val_loss: 0.0601 - val_acc: 0.9894\n",
            "Epoch 19/50\n",
            "42000/42000 [==============================] - 53s 1ms/step - loss: 0.0426 - acc: 0.9935 - val_loss: 0.0585 - val_acc: 0.9897\n",
            "Epoch 20/50\n",
            "42000/42000 [==============================] - 53s 1ms/step - loss: 0.0409 - acc: 0.9945 - val_loss: 0.0575 - val_acc: 0.9894\n",
            "Epoch 21/50\n",
            "42000/42000 [==============================] - 53s 1ms/step - loss: 0.0399 - acc: 0.9941 - val_loss: 0.0562 - val_acc: 0.9903\n",
            "Epoch 22/50\n",
            "42000/42000 [==============================] - 53s 1ms/step - loss: 0.0393 - acc: 0.9946 - val_loss: 0.0577 - val_acc: 0.9893\n",
            "Epoch 23/50\n",
            "42000/42000 [==============================] - 53s 1ms/step - loss: 0.0381 - acc: 0.9947 - val_loss: 0.0560 - val_acc: 0.9902\n",
            "Epoch 24/50\n",
            "42000/42000 [==============================] - 52s 1ms/step - loss: 0.0388 - acc: 0.9946 - val_loss: 0.0562 - val_acc: 0.9902\n",
            "Epoch 25/50\n",
            "42000/42000 [==============================] - 52s 1ms/step - loss: 0.0385 - acc: 0.9946 - val_loss: 0.0554 - val_acc: 0.9906\n",
            "Epoch 26/50\n",
            "42000/42000 [==============================] - 52s 1ms/step - loss: 0.0367 - acc: 0.9953 - val_loss: 0.0541 - val_acc: 0.9906\n",
            "Epoch 27/50\n",
            "42000/42000 [==============================] - 52s 1ms/step - loss: 0.0365 - acc: 0.9950 - val_loss: 0.0555 - val_acc: 0.9898\n",
            "Epoch 28/50\n",
            "42000/42000 [==============================] - 53s 1ms/step - loss: 0.0372 - acc: 0.9950 - val_loss: 0.0546 - val_acc: 0.9901\n",
            "Epoch 29/50\n",
            "42000/42000 [==============================] - 53s 1ms/step - loss: 0.0354 - acc: 0.9954 - val_loss: 0.0544 - val_acc: 0.9902\n",
            "Epoch 30/50\n",
            "42000/42000 [==============================] - 52s 1ms/step - loss: 0.0364 - acc: 0.9950 - val_loss: 0.0541 - val_acc: 0.9902\n",
            "Epoch 31/50\n",
            "42000/42000 [==============================] - 52s 1ms/step - loss: 0.0360 - acc: 0.9947 - val_loss: 0.0550 - val_acc: 0.9898\n",
            "Epoch 32/50\n",
            "42000/42000 [==============================] - 52s 1ms/step - loss: 0.0346 - acc: 0.9956 - val_loss: 0.0543 - val_acc: 0.9903\n",
            "Epoch 33/50\n",
            "42000/42000 [==============================] - 52s 1ms/step - loss: 0.0351 - acc: 0.9955 - val_loss: 0.0536 - val_acc: 0.9904\n",
            "Epoch 34/50\n",
            "42000/42000 [==============================] - 52s 1ms/step - loss: 0.0349 - acc: 0.9954 - val_loss: 0.0549 - val_acc: 0.9903\n",
            "Epoch 35/50\n",
            "42000/42000 [==============================] - 53s 1ms/step - loss: 0.0345 - acc: 0.9959 - val_loss: 0.0538 - val_acc: 0.9906\n",
            "Epoch 36/50\n",
            "42000/42000 [==============================] - 52s 1ms/step - loss: 0.0348 - acc: 0.9953 - val_loss: 0.0535 - val_acc: 0.9904\n",
            "Epoch 37/50\n",
            "42000/42000 [==============================] - 52s 1ms/step - loss: 0.0334 - acc: 0.9959 - val_loss: 0.0537 - val_acc: 0.9904\n",
            "Epoch 38/50\n",
            "42000/42000 [==============================] - 52s 1ms/step - loss: 0.0330 - acc: 0.9960 - val_loss: 0.0533 - val_acc: 0.9906\n",
            "Epoch 39/50\n",
            "42000/42000 [==============================] - 52s 1ms/step - loss: 0.0343 - acc: 0.9958 - val_loss: 0.0533 - val_acc: 0.9902\n",
            "Epoch 40/50\n",
            "42000/42000 [==============================] - 52s 1ms/step - loss: 0.0345 - acc: 0.9954 - val_loss: 0.0527 - val_acc: 0.9906\n",
            "Epoch 41/50\n",
            "42000/42000 [==============================] - 54s 1ms/step - loss: 0.0332 - acc: 0.9960 - val_loss: 0.0530 - val_acc: 0.9902\n",
            "Epoch 42/50\n",
            "42000/42000 [==============================] - 55s 1ms/step - loss: 0.0331 - acc: 0.9960 - val_loss: 0.0527 - val_acc: 0.9907\n",
            "Epoch 43/50\n",
            "42000/42000 [==============================] - 55s 1ms/step - loss: 0.0332 - acc: 0.9958 - val_loss: 0.0532 - val_acc: 0.9901\n",
            "Epoch 44/50\n",
            "42000/42000 [==============================] - 54s 1ms/step - loss: 0.0333 - acc: 0.9956 - val_loss: 0.0529 - val_acc: 0.9906\n",
            "Epoch 45/50\n",
            "42000/42000 [==============================] - 54s 1ms/step - loss: 0.0326 - acc: 0.9962 - val_loss: 0.0528 - val_acc: 0.9904\n",
            "Epoch 46/50\n",
            "42000/42000 [==============================] - 54s 1ms/step - loss: 0.0332 - acc: 0.9957 - val_loss: 0.0530 - val_acc: 0.9902\n",
            "Epoch 47/50\n",
            "42000/42000 [==============================] - 56s 1ms/step - loss: 0.0330 - acc: 0.9958 - val_loss: 0.0529 - val_acc: 0.9904\n",
            "Epoch 48/50\n",
            "42000/42000 [==============================] - 56s 1ms/step - loss: 0.0330 - acc: 0.9958 - val_loss: 0.0526 - val_acc: 0.9905\n",
            "Epoch 49/50\n",
            "42000/42000 [==============================] - 55s 1ms/step - loss: 0.0336 - acc: 0.9958 - val_loss: 0.0528 - val_acc: 0.9906\n",
            "Epoch 50/50\n",
            "42000/42000 [==============================] - 55s 1ms/step - loss: 0.0341 - acc: 0.9958 - val_loss: 0.0527 - val_acc: 0.9904\n"
          ],
          "name": "stdout"
        },
        {
          "output_type": "execute_result",
          "data": {
            "text/plain": [
              "<keras.callbacks.History at 0x7f7dce012160>"
            ]
          },
          "metadata": {
            "tags": []
          },
          "execution_count": 22
        }
      ]
    },
    {
      "metadata": {
        "id": "H50cE1jStlmV",
        "colab_type": "code",
        "colab": {
          "base_uri": "https://localhost:8080/",
          "height": 51
        },
        "outputId": "d3289e0f-49d3-438a-fac7-6ee68574c709"
      },
      "cell_type": "code",
      "source": [
        "score = model_original_data.evaluate(x_test_data,y_test_data,verbose=1)\n",
        "print(score)"
      ],
      "execution_count": 23,
      "outputs": [
        {
          "output_type": "stream",
          "text": [
            "10000/10000 [==============================] - 1s 104us/step\n",
            "[0.05662910980582237, 0.99]\n"
          ],
          "name": "stdout"
        }
      ]
    },
    {
      "metadata": {
        "id": "8WxzrEsZtwSy",
        "colab_type": "code",
        "colab": {
          "base_uri": "https://localhost:8080/",
          "height": 629
        },
        "outputId": "e3d0922c-0bc3-4160-fd42-5e19980bd59e"
      },
      "cell_type": "code",
      "source": [
        "y_pred=model_original_data.predict(x_test_data)\n",
        "print(y_pred[:9])\n",
        "print(y_test_data[:9])"
      ],
      "execution_count": 24,
      "outputs": [
        {
          "output_type": "stream",
          "text": [
            "[[1.14393551e-07 5.12310692e-07 8.33492140e-06 6.77823391e-06\n",
            "  9.69295755e-10 2.54496406e-08 2.14693174e-09 9.99950886e-01\n",
            "  1.97826591e-08 3.33703174e-05]\n",
            " [6.05607738e-07 5.70767544e-10 9.99999404e-01 5.01572284e-10\n",
            "  1.10492890e-14 2.54642858e-15 1.86262436e-10 5.34308287e-09\n",
            "  1.17972937e-10 1.54447988e-09]\n",
            " [7.42641168e-06 9.99808252e-01 2.44539979e-06 2.46631316e-07\n",
            "  1.06261272e-04 2.44314788e-06 1.88413323e-05 4.22674530e-05\n",
            "  1.05487079e-05 1.21512596e-06]\n",
            " [9.99989748e-01 2.75117720e-15 6.33476427e-09 1.48104473e-14\n",
            "  1.07419879e-10 3.63436975e-10 4.34866388e-06 8.26068813e-09\n",
            "  1.62089702e-08 5.86204487e-06]\n",
            " [9.34722135e-13 8.41678344e-14 3.85604005e-12 5.11185807e-14\n",
            "  9.99997377e-01 2.89833491e-10 2.16317537e-11 3.77846893e-10\n",
            "  1.83024651e-09 2.60420529e-06]\n",
            " [1.16181229e-06 9.99931216e-01 3.56392576e-07 1.11175723e-07\n",
            "  3.79226767e-05 1.12116524e-07 1.87335684e-06 2.18636651e-05\n",
            "  4.19845173e-06 1.14134298e-06]\n",
            " [2.25318184e-11 4.56043781e-09 9.93285575e-12 4.14943579e-13\n",
            "  9.99944329e-01 2.17012630e-08 8.20743733e-12 2.11981202e-07\n",
            "  1.66732639e-06 5.37098895e-05]\n",
            " [1.11307586e-11 1.27180224e-16 5.84532778e-08 2.33620523e-09\n",
            "  6.07849324e-06 3.80389395e-07 2.11842384e-11 3.14258064e-09\n",
            "  6.00657631e-06 9.99987483e-01]\n",
            " [9.92046179e-09 1.30078982e-17 2.16459348e-08 2.22810962e-12\n",
            "  1.02389109e-07 9.93413627e-01 1.11910421e-03 3.55663680e-14\n",
            "  5.46510890e-03 2.01485614e-06]]\n",
            "[[0. 0. 0. 0. 0. 0. 0. 1. 0. 0.]\n",
            " [0. 0. 1. 0. 0. 0. 0. 0. 0. 0.]\n",
            " [0. 1. 0. 0. 0. 0. 0. 0. 0. 0.]\n",
            " [1. 0. 0. 0. 0. 0. 0. 0. 0. 0.]\n",
            " [0. 0. 0. 0. 1. 0. 0. 0. 0. 0.]\n",
            " [0. 1. 0. 0. 0. 0. 0. 0. 0. 0.]\n",
            " [0. 0. 0. 0. 1. 0. 0. 0. 0. 0.]\n",
            " [0. 0. 0. 0. 0. 0. 0. 0. 0. 1.]\n",
            " [0. 0. 0. 0. 0. 1. 0. 0. 0. 0.]]\n"
          ],
          "name": "stdout"
        }
      ]
    },
    {
      "metadata": {
        "id": "irhVnOP0WSV0",
        "colab_type": "code",
        "colab": {
          "base_uri": "https://localhost:8080/",
          "height": 71
        },
        "outputId": "837ce553-eb12-4c71-fe06-6a77452e633d"
      },
      "cell_type": "code",
      "source": [
        "from keras.preprocessing.image import ImageDataGenerator\n",
        "# model_original_data.optimizer.lr=0.01\n",
        "# gen =ImageDataGenerator()\n",
        "# batches = gen.flow(x_train_data, x_train_data, batch_size=64)\n",
        "# history=model_original_data.fit_generator(generator=batches, steps_per_epoch=batches.n, epochs=3)\n",
        "datagen = ImageDataGenerator(zoom_range = 0.1,zca_whitening=True,\n",
        "                            height_shift_range = 0.1,\n",
        "                            width_shift_range = 0.1,\n",
        "                            rotation_range = 10)\n",
        "\n",
        "model_augmented=getModel()\n",
        "adam = keras.optimizers.adam(lr=0.0001)\n",
        "model_augmented.compile(loss='categorical_crossentropy', optimizer = adam, metrics=[\"accuracy\"])"
      ],
      "execution_count": 42,
      "outputs": [
        {
          "output_type": "stream",
          "text": [
            "/usr/local/lib/python3.6/dist-packages/keras/preprocessing/image.py:645: UserWarning: This ImageDataGenerator specifies `zca_whitening`, which overrides setting of `featurewise_center`.\n",
            "  warnings.warn('This ImageDataGenerator specifies '\n"
          ],
          "name": "stderr"
        }
      ]
    },
    {
      "metadata": {
        "id": "BJp8ApaLmxH8",
        "colab_type": "code",
        "colab": {
          "base_uri": "https://localhost:8080/",
          "height": 1805
        },
        "outputId": "5d53b131-dd48-42f7-ada6-1dd8a8b73e14"
      },
      "cell_type": "code",
      "source": [
        "hist = model_augmented.fit_generator(datagen.flow(x_train_data, y_train_data, batch_size=16),\n",
        "                           \n",
        "                           epochs=50, \n",
        "                           verbose=1,callbacks=[annealer])\n"
      ],
      "execution_count": 43,
      "outputs": [
        {
          "output_type": "stream",
          "text": [
            "Epoch 1/50\n"
          ],
          "name": "stdout"
        },
        {
          "output_type": "stream",
          "text": [
            "/usr/local/lib/python3.6/dist-packages/keras/preprocessing/image.py:799: UserWarning: This ImageDataGenerator specifies `featurewise_center`, but it hasn't been fit on any training data. Fit it first by calling `.fit(numpy_data)`.\n",
            "  warnings.warn('This ImageDataGenerator specifies '\n",
            "/usr/local/lib/python3.6/dist-packages/keras/preprocessing/image.py:817: UserWarning: This ImageDataGenerator specifies `zca_whitening`, but it hasn't been fit on any training data. Fit it first by calling `.fit(numpy_data)`.\n",
            "  warnings.warn('This ImageDataGenerator specifies '\n"
          ],
          "name": "stderr"
        },
        {
          "output_type": "stream",
          "text": [
            "3750/3750 [==============================] - 53s 14ms/step - loss: 0.5590 - acc: 0.8237\n",
            "Epoch 2/50\n",
            "3750/3750 [==============================] - 53s 14ms/step - loss: 0.2751 - acc: 0.9204\n",
            "Epoch 3/50\n",
            "3750/3750 [==============================] - 51s 14ms/step - loss: 0.2295 - acc: 0.9364\n",
            "Epoch 4/50\n",
            "3750/3750 [==============================] - 53s 14ms/step - loss: 0.2056 - acc: 0.9456\n",
            "Epoch 5/50\n",
            "3750/3750 [==============================] - 51s 14ms/step - loss: 0.1911 - acc: 0.9496\n",
            "Epoch 6/50\n",
            "3750/3750 [==============================] - 52s 14ms/step - loss: 0.1835 - acc: 0.9525\n",
            "Epoch 7/50\n",
            "3750/3750 [==============================] - 52s 14ms/step - loss: 0.1754 - acc: 0.9534\n",
            "Epoch 8/50\n",
            "3750/3750 [==============================] - 53s 14ms/step - loss: 0.1666 - acc: 0.9574\n",
            "Epoch 9/50\n",
            "3750/3750 [==============================] - 52s 14ms/step - loss: 0.1637 - acc: 0.9588\n",
            "Epoch 10/50\n",
            "3750/3750 [==============================] - 51s 14ms/step - loss: 0.1568 - acc: 0.9605\n",
            "Epoch 11/50\n",
            "3750/3750 [==============================] - 52s 14ms/step - loss: 0.1537 - acc: 0.9614\n",
            "Epoch 12/50\n",
            "3750/3750 [==============================] - 51s 14ms/step - loss: 0.1506 - acc: 0.9619\n",
            "Epoch 13/50\n",
            "3750/3750 [==============================] - 53s 14ms/step - loss: 0.1464 - acc: 0.9633\n",
            "Epoch 14/50\n",
            "3750/3750 [==============================] - 52s 14ms/step - loss: 0.1443 - acc: 0.9642\n",
            "Epoch 15/50\n",
            "3750/3750 [==============================] - 53s 14ms/step - loss: 0.1431 - acc: 0.9648\n",
            "Epoch 16/50\n",
            "3750/3750 [==============================] - 52s 14ms/step - loss: 0.1418 - acc: 0.9649\n",
            "Epoch 17/50\n",
            "3750/3750 [==============================] - 59s 16ms/step - loss: 0.1390 - acc: 0.9661\n",
            "Epoch 18/50\n",
            "3750/3750 [==============================] - 59s 16ms/step - loss: 0.1370 - acc: 0.9670\n",
            "Epoch 19/50\n",
            "3750/3750 [==============================] - 58s 16ms/step - loss: 0.1351 - acc: 0.9671\n",
            "Epoch 20/50\n",
            "3750/3750 [==============================] - 59s 16ms/step - loss: 0.1371 - acc: 0.9658\n",
            "Epoch 21/50\n",
            "3750/3750 [==============================] - 58s 16ms/step - loss: 0.1346 - acc: 0.9665\n",
            "Epoch 22/50\n",
            "3750/3750 [==============================] - 59s 16ms/step - loss: 0.1317 - acc: 0.9675\n",
            "Epoch 23/50\n",
            "3750/3750 [==============================] - 59s 16ms/step - loss: 0.1294 - acc: 0.9689\n",
            "Epoch 24/50\n",
            "3750/3750 [==============================] - 59s 16ms/step - loss: 0.1299 - acc: 0.9688\n",
            "Epoch 25/50\n",
            "3750/3750 [==============================] - 59s 16ms/step - loss: 0.1277 - acc: 0.9683\n",
            "Epoch 26/50\n",
            "3750/3750 [==============================] - 59s 16ms/step - loss: 0.1297 - acc: 0.9685\n",
            "Epoch 27/50\n",
            "3750/3750 [==============================] - 59s 16ms/step - loss: 0.1272 - acc: 0.9690\n",
            "Epoch 28/50\n",
            "3750/3750 [==============================] - 58s 16ms/step - loss: 0.1286 - acc: 0.9690\n",
            "Epoch 29/50\n",
            "3750/3750 [==============================] - 56s 15ms/step - loss: 0.1250 - acc: 0.9696\n",
            "Epoch 30/50\n",
            "3750/3750 [==============================] - 56s 15ms/step - loss: 0.1262 - acc: 0.9688\n",
            "Epoch 31/50\n",
            "3750/3750 [==============================] - 56s 15ms/step - loss: 0.1235 - acc: 0.9702\n",
            "Epoch 32/50\n",
            "3750/3750 [==============================] - 56s 15ms/step - loss: 0.1230 - acc: 0.9699\n",
            "Epoch 33/50\n",
            "3750/3750 [==============================] - 55s 15ms/step - loss: 0.1239 - acc: 0.9695\n",
            "Epoch 34/50\n",
            "3750/3750 [==============================] - 55s 15ms/step - loss: 0.1215 - acc: 0.9705\n",
            "Epoch 35/50\n",
            "3750/3750 [==============================] - 56s 15ms/step - loss: 0.1239 - acc: 0.9706\n",
            "Epoch 36/50\n",
            "3750/3750 [==============================] - 56s 15ms/step - loss: 0.1255 - acc: 0.9691\n",
            "Epoch 37/50\n",
            "3750/3750 [==============================] - 55s 15ms/step - loss: 0.1219 - acc: 0.9704\n",
            "Epoch 38/50\n",
            "3750/3750 [==============================] - 55s 15ms/step - loss: 0.1241 - acc: 0.9693\n",
            "Epoch 39/50\n",
            "3750/3750 [==============================] - 56s 15ms/step - loss: 0.1258 - acc: 0.9698\n",
            "Epoch 40/50\n",
            "3750/3750 [==============================] - 56s 15ms/step - loss: 0.1253 - acc: 0.9683\n",
            "Epoch 41/50\n",
            "3750/3750 [==============================] - 56s 15ms/step - loss: 0.1211 - acc: 0.9703\n",
            "Epoch 42/50\n",
            "3750/3750 [==============================] - 56s 15ms/step - loss: 0.1233 - acc: 0.9703\n",
            "Epoch 43/50\n",
            "3750/3750 [==============================] - 56s 15ms/step - loss: 0.1224 - acc: 0.9704\n",
            "Epoch 44/50\n",
            "3750/3750 [==============================] - 56s 15ms/step - loss: 0.1219 - acc: 0.9701\n",
            "Epoch 45/50\n",
            "3750/3750 [==============================] - 55s 15ms/step - loss: 0.1247 - acc: 0.9691\n",
            "Epoch 46/50\n",
            "3750/3750 [==============================] - 55s 15ms/step - loss: 0.1228 - acc: 0.9697\n",
            "Epoch 47/50\n",
            "3750/3750 [==============================] - 56s 15ms/step - loss: 0.1241 - acc: 0.9692\n",
            "Epoch 48/50\n",
            "3750/3750 [==============================] - 55s 15ms/step - loss: 0.1209 - acc: 0.9709\n",
            "Epoch 49/50\n",
            "3750/3750 [==============================] - 55s 15ms/step - loss: 0.1211 - acc: 0.9704\n",
            "Epoch 50/50\n",
            "3750/3750 [==============================] - 56s 15ms/step - loss: 0.1209 - acc: 0.9704\n"
          ],
          "name": "stdout"
        }
      ]
    },
    {
      "metadata": {
        "colab_type": "code",
        "outputId": "1951a6bb-6cb7-4a27-8ddd-64e9e5d751b8",
        "id": "pI20OkrLZCW3",
        "colab": {
          "base_uri": "https://localhost:8080/",
          "height": 1737
        }
      },
      "cell_type": "code",
      "source": [
        "hist = model_augmented.fit_generator(datagen.flow(x_train_data, y_train_data, batch_size=16),\n",
        "                           epochs=50, \n",
        "                           verbose=1,callbacks=[annealer])\n"
      ],
      "execution_count": 0,
      "outputs": [
        {
          "output_type": "stream",
          "text": [
            "Epoch 1/50\n",
            "3750/3750 [==============================] - 48s 13ms/step - loss: 0.2559 - acc: 0.9245\n",
            "Epoch 2/50\n",
            "3750/3750 [==============================] - 47s 13ms/step - loss: 0.2215 - acc: 0.9378\n",
            "Epoch 3/50\n",
            "3750/3750 [==============================] - 47s 12ms/step - loss: 0.2012 - acc: 0.9474\n",
            "Epoch 4/50\n",
            "3750/3750 [==============================] - 47s 13ms/step - loss: 0.1893 - acc: 0.9501\n",
            "Epoch 5/50\n",
            "3750/3750 [==============================] - 47s 12ms/step - loss: 0.1800 - acc: 0.9534\n",
            "Epoch 6/50\n",
            "3750/3750 [==============================] - 47s 12ms/step - loss: 0.1730 - acc: 0.9561\n",
            "Epoch 7/50\n",
            "3750/3750 [==============================] - 48s 13ms/step - loss: 0.1690 - acc: 0.9572\n",
            "Epoch 8/50\n",
            "3750/3750 [==============================] - 47s 12ms/step - loss: 0.1642 - acc: 0.9577\n",
            "Epoch 9/50\n",
            "3750/3750 [==============================] - 47s 12ms/step - loss: 0.1597 - acc: 0.9593\n",
            "Epoch 10/50\n",
            "3750/3750 [==============================] - 47s 13ms/step - loss: 0.1542 - acc: 0.9614\n",
            "Epoch 11/50\n",
            "3750/3750 [==============================] - 46s 12ms/step - loss: 0.1520 - acc: 0.9619\n",
            "Epoch 12/50\n",
            "3750/3750 [==============================] - 46s 12ms/step - loss: 0.1483 - acc: 0.9634\n",
            "Epoch 13/50\n",
            "3750/3750 [==============================] - 46s 12ms/step - loss: 0.1449 - acc: 0.9634\n",
            "Epoch 14/50\n",
            "3750/3750 [==============================] - 48s 13ms/step - loss: 0.1439 - acc: 0.9637\n",
            "Epoch 15/50\n",
            "3750/3750 [==============================] - 46s 12ms/step - loss: 0.1439 - acc: 0.9644\n",
            "Epoch 16/50\n",
            "3750/3750 [==============================] - 46s 12ms/step - loss: 0.1410 - acc: 0.9651\n",
            "Epoch 17/50\n",
            "3750/3750 [==============================] - 47s 12ms/step - loss: 0.1387 - acc: 0.9662\n",
            "Epoch 18/50\n",
            "3750/3750 [==============================] - 47s 12ms/step - loss: 0.1372 - acc: 0.9660\n",
            "Epoch 19/50\n",
            "3750/3750 [==============================] - 46s 12ms/step - loss: 0.1341 - acc: 0.9668\n",
            "Epoch 20/50\n",
            "3750/3750 [==============================] - 47s 13ms/step - loss: 0.1314 - acc: 0.9676\n",
            "Epoch 21/50\n",
            "3750/3750 [==============================] - 47s 12ms/step - loss: 0.1322 - acc: 0.9669\n",
            "Epoch 22/50\n",
            "3750/3750 [==============================] - 46s 12ms/step - loss: 0.1323 - acc: 0.9661\n",
            "Epoch 23/50\n",
            "3750/3750 [==============================] - 47s 12ms/step - loss: 0.1310 - acc: 0.9678\n",
            "Epoch 24/50\n",
            "3750/3750 [==============================] - 46s 12ms/step - loss: 0.1305 - acc: 0.9677\n",
            "Epoch 25/50\n",
            "3750/3750 [==============================] - 46s 12ms/step - loss: 0.1261 - acc: 0.9694\n",
            "Epoch 26/50\n",
            "3750/3750 [==============================] - 46s 12ms/step - loss: 0.1296 - acc: 0.9676\n",
            "Epoch 27/50\n",
            "3750/3750 [==============================] - 48s 13ms/step - loss: 0.1279 - acc: 0.9690\n",
            "Epoch 28/50\n",
            "3750/3750 [==============================] - 46s 12ms/step - loss: 0.1275 - acc: 0.9686\n",
            "Epoch 29/50\n",
            "3750/3750 [==============================] - 46s 12ms/step - loss: 0.1256 - acc: 0.9689\n",
            "Epoch 30/50\n",
            "3750/3750 [==============================] - 46s 12ms/step - loss: 0.1263 - acc: 0.9682\n",
            "Epoch 31/50\n",
            "3750/3750 [==============================] - 46s 12ms/step - loss: 0.1228 - acc: 0.9694\n",
            "Epoch 32/50\n",
            "3750/3750 [==============================] - 46s 12ms/step - loss: 0.1248 - acc: 0.9695\n",
            "Epoch 33/50\n",
            "3750/3750 [==============================] - 46s 12ms/step - loss: 0.1235 - acc: 0.9689\n",
            "Epoch 34/50\n",
            "3750/3750 [==============================] - 48s 13ms/step - loss: 0.1266 - acc: 0.9687\n",
            "Epoch 35/50\n",
            "3750/3750 [==============================] - 46s 12ms/step - loss: 0.1239 - acc: 0.9697\n",
            "Epoch 36/50\n",
            "3750/3750 [==============================] - 46s 12ms/step - loss: 0.1217 - acc: 0.9705\n",
            "Epoch 37/50\n",
            "3750/3750 [==============================] - 46s 12ms/step - loss: 0.1240 - acc: 0.9694\n",
            "Epoch 38/50\n",
            "3750/3750 [==============================] - 46s 12ms/step - loss: 0.1237 - acc: 0.9695\n",
            "Epoch 39/50\n",
            "3750/3750 [==============================] - 46s 12ms/step - loss: 0.1268 - acc: 0.9676\n",
            "Epoch 40/50\n",
            "3750/3750 [==============================] - 46s 12ms/step - loss: 0.1242 - acc: 0.9692\n",
            "Epoch 41/50\n",
            "3750/3750 [==============================] - 47s 13ms/step - loss: 0.1219 - acc: 0.9700\n",
            "Epoch 42/50\n",
            "3750/3750 [==============================] - 46s 12ms/step - loss: 0.1197 - acc: 0.9711\n",
            "Epoch 43/50\n",
            "3750/3750 [==============================] - 46s 12ms/step - loss: 0.1221 - acc: 0.9703\n",
            "Epoch 44/50\n",
            "3750/3750 [==============================] - 46s 12ms/step - loss: 0.1212 - acc: 0.9706\n",
            "Epoch 45/50\n",
            "3750/3750 [==============================] - 46s 12ms/step - loss: 0.1240 - acc: 0.9690\n",
            "Epoch 46/50\n",
            "3750/3750 [==============================] - 46s 12ms/step - loss: 0.1239 - acc: 0.9689\n",
            "Epoch 47/50\n",
            "3750/3750 [==============================] - 48s 13ms/step - loss: 0.1245 - acc: 0.9691\n",
            "Epoch 48/50\n",
            "3750/3750 [==============================] - 45s 12ms/step - loss: 0.1246 - acc: 0.9690\n",
            "Epoch 49/50\n",
            "3750/3750 [==============================] - 46s 12ms/step - loss: 0.1209 - acc: 0.9696\n",
            "Epoch 50/50\n",
            "3750/3750 [==============================] - 46s 12ms/step - loss: 0.1187 - acc: 0.9718\n"
          ],
          "name": "stdout"
        }
      ]
    },
    {
      "metadata": {
        "id": "GXSv6QW6Tb34",
        "colab_type": "code",
        "colab": {
          "base_uri": "https://localhost:8080/",
          "height": 1805
        },
        "outputId": "97b4f52e-0c4f-418e-cca8-eeed395ee5cb"
      },
      "cell_type": "code",
      "source": [
        "hist = model_augmented.fit_generator(datagen.flow(x_train_data, y_train_data, batch_size=16),\n",
        "                           epochs=50, \n",
        "                           verbose=1,callbacks=[annealer])\n"
      ],
      "execution_count": 44,
      "outputs": [
        {
          "output_type": "stream",
          "text": [
            "Epoch 1/50\n",
            "  11/3750 [..............................] - ETA: 1:03 - loss: 0.0891 - acc: 0.9716"
          ],
          "name": "stdout"
        },
        {
          "output_type": "stream",
          "text": [
            "/usr/local/lib/python3.6/dist-packages/keras/preprocessing/image.py:799: UserWarning: This ImageDataGenerator specifies `featurewise_center`, but it hasn't been fit on any training data. Fit it first by calling `.fit(numpy_data)`.\n",
            "  warnings.warn('This ImageDataGenerator specifies '\n",
            "/usr/local/lib/python3.6/dist-packages/keras/preprocessing/image.py:817: UserWarning: This ImageDataGenerator specifies `zca_whitening`, but it hasn't been fit on any training data. Fit it first by calling `.fit(numpy_data)`.\n",
            "  warnings.warn('This ImageDataGenerator specifies '\n"
          ],
          "name": "stderr"
        },
        {
          "output_type": "stream",
          "text": [
            "3750/3750 [==============================] - 55s 15ms/step - loss: 0.1639 - acc: 0.9579\n",
            "Epoch 2/50\n",
            "3750/3750 [==============================] - 55s 15ms/step - loss: 0.1629 - acc: 0.9590\n",
            "Epoch 3/50\n",
            "3750/3750 [==============================] - 55s 15ms/step - loss: 0.1615 - acc: 0.9598\n",
            "Epoch 4/50\n",
            "3750/3750 [==============================] - 54s 15ms/step - loss: 0.1542 - acc: 0.9628\n",
            "Epoch 5/50\n",
            "3750/3750 [==============================] - 56s 15ms/step - loss: 0.1551 - acc: 0.9632\n",
            "Epoch 6/50\n",
            "3750/3750 [==============================] - 57s 15ms/step - loss: 0.1485 - acc: 0.9645\n",
            "Epoch 7/50\n",
            "3750/3750 [==============================] - 55s 15ms/step - loss: 0.1456 - acc: 0.9650\n",
            "Epoch 8/50\n",
            "3750/3750 [==============================] - 55s 15ms/step - loss: 0.1393 - acc: 0.9666\n",
            "Epoch 9/50\n",
            "3750/3750 [==============================] - 55s 15ms/step - loss: 0.1401 - acc: 0.9662\n",
            "Epoch 10/50\n",
            "3750/3750 [==============================] - 55s 15ms/step - loss: 0.1368 - acc: 0.9679\n",
            "Epoch 11/50\n",
            "3750/3750 [==============================] - 55s 15ms/step - loss: 0.1332 - acc: 0.9688\n",
            "Epoch 12/50\n",
            "3750/3750 [==============================] - 55s 15ms/step - loss: 0.1322 - acc: 0.9682\n",
            "Epoch 13/50\n",
            "3750/3750 [==============================] - 55s 15ms/step - loss: 0.1295 - acc: 0.9689\n",
            "Epoch 14/50\n",
            "3750/3750 [==============================] - 55s 15ms/step - loss: 0.1272 - acc: 0.9699\n",
            "Epoch 15/50\n",
            "3750/3750 [==============================] - 55s 15ms/step - loss: 0.1288 - acc: 0.9689\n",
            "Epoch 16/50\n",
            "3750/3750 [==============================] - 55s 15ms/step - loss: 0.1248 - acc: 0.9706\n",
            "Epoch 17/50\n",
            "3750/3750 [==============================] - 56s 15ms/step - loss: 0.1235 - acc: 0.9702\n",
            "Epoch 18/50\n",
            "3750/3750 [==============================] - 55s 15ms/step - loss: 0.1234 - acc: 0.9707\n",
            "Epoch 19/50\n",
            "3750/3750 [==============================] - 55s 15ms/step - loss: 0.1212 - acc: 0.9721\n",
            "Epoch 20/50\n",
            "3750/3750 [==============================] - 55s 15ms/step - loss: 0.1198 - acc: 0.9714\n",
            "Epoch 21/50\n",
            "3750/3750 [==============================] - 55s 15ms/step - loss: 0.1216 - acc: 0.9708\n",
            "Epoch 22/50\n",
            "3750/3750 [==============================] - 55s 15ms/step - loss: 0.1210 - acc: 0.9701\n",
            "Epoch 23/50\n",
            "3750/3750 [==============================] - 55s 15ms/step - loss: 0.1170 - acc: 0.9722\n",
            "Epoch 24/50\n",
            "3750/3750 [==============================] - 55s 15ms/step - loss: 0.1188 - acc: 0.9717\n",
            "Epoch 25/50\n",
            "3750/3750 [==============================] - 55s 15ms/step - loss: 0.1179 - acc: 0.9717\n",
            "Epoch 26/50\n",
            "3750/3750 [==============================] - 54s 15ms/step - loss: 0.1147 - acc: 0.9726\n",
            "Epoch 27/50\n",
            "3750/3750 [==============================] - 54s 14ms/step - loss: 0.1167 - acc: 0.9723\n",
            "Epoch 28/50\n",
            "3750/3750 [==============================] - 55s 15ms/step - loss: 0.1129 - acc: 0.9736\n",
            "Epoch 29/50\n",
            "3750/3750 [==============================] - 55s 15ms/step - loss: 0.1130 - acc: 0.9731\n",
            "Epoch 30/50\n",
            "3750/3750 [==============================] - 55s 15ms/step - loss: 0.1136 - acc: 0.9732\n",
            "Epoch 31/50\n",
            "3750/3750 [==============================] - 54s 14ms/step - loss: 0.1146 - acc: 0.9723\n",
            "Epoch 32/50\n",
            "3750/3750 [==============================] - 54s 14ms/step - loss: 0.1135 - acc: 0.9733\n",
            "Epoch 33/50\n",
            "3750/3750 [==============================] - 54s 14ms/step - loss: 0.1145 - acc: 0.9724\n",
            "Epoch 34/50\n",
            "3750/3750 [==============================] - 55s 15ms/step - loss: 0.1143 - acc: 0.9721\n",
            "Epoch 35/50\n",
            "3750/3750 [==============================] - 54s 14ms/step - loss: 0.1121 - acc: 0.9734\n",
            "Epoch 36/50\n",
            "3750/3750 [==============================] - 54s 14ms/step - loss: 0.1111 - acc: 0.9736\n",
            "Epoch 37/50\n",
            "3750/3750 [==============================] - 54s 14ms/step - loss: 0.1122 - acc: 0.9726\n",
            "Epoch 38/50\n",
            "3750/3750 [==============================] - 54s 14ms/step - loss: 0.1120 - acc: 0.9736\n",
            "Epoch 39/50\n",
            "3750/3750 [==============================] - 55s 15ms/step - loss: 0.1114 - acc: 0.9741\n",
            "Epoch 40/50\n",
            "3750/3750 [==============================] - 53s 14ms/step - loss: 0.1132 - acc: 0.9729\n",
            "Epoch 41/50\n",
            "3750/3750 [==============================] - 54s 14ms/step - loss: 0.1101 - acc: 0.9739\n",
            "Epoch 42/50\n",
            "3750/3750 [==============================] - 54s 15ms/step - loss: 0.1114 - acc: 0.9730\n",
            "Epoch 43/50\n",
            "3750/3750 [==============================] - 55s 15ms/step - loss: 0.1097 - acc: 0.9737\n",
            "Epoch 44/50\n",
            "3750/3750 [==============================] - 55s 15ms/step - loss: 0.1114 - acc: 0.9726\n",
            "Epoch 45/50\n",
            "3750/3750 [==============================] - 55s 15ms/step - loss: 0.1120 - acc: 0.9736\n",
            "Epoch 46/50\n",
            "3750/3750 [==============================] - 54s 15ms/step - loss: 0.1126 - acc: 0.9732\n",
            "Epoch 47/50\n",
            "3750/3750 [==============================] - 54s 14ms/step - loss: 0.1116 - acc: 0.9735\n",
            "Epoch 48/50\n",
            "3750/3750 [==============================] - 54s 14ms/step - loss: 0.1108 - acc: 0.9733\n",
            "Epoch 49/50\n",
            "3750/3750 [==============================] - 54s 14ms/step - loss: 0.1120 - acc: 0.9722\n",
            "Epoch 50/50\n",
            "3750/3750 [==============================] - 53s 14ms/step - loss: 0.1104 - acc: 0.9742\n"
          ],
          "name": "stdout"
        }
      ]
    },
    {
      "metadata": {
        "id": "CTXYcDT1iGPZ",
        "colab_type": "code",
        "colab": {
          "base_uri": "https://localhost:8080/",
          "height": 51
        },
        "outputId": "de3a6624-48e1-472c-eb28-de94b5ad2883"
      },
      "cell_type": "code",
      "source": [
        "score = model_augmented.evaluate(x_test_data,y_test_data,verbose=1)\n",
        "print(score)"
      ],
      "execution_count": 46,
      "outputs": [
        {
          "output_type": "stream",
          "text": [
            "10000/10000 [==============================] - 1s 129us/step\n",
            "[0.05883759761452675, 0.9908]\n"
          ],
          "name": "stdout"
        }
      ]
    },
    {
      "metadata": {
        "id": "vq3SKatSj8oP",
        "colab_type": "code",
        "colab": {
          "base_uri": "https://localhost:8080/",
          "height": 629
        },
        "outputId": "be9ae1e4-3b42-4a07-ccc2-91e21c75fff1"
      },
      "cell_type": "code",
      "source": [
        "y_pred=model_original_data.predict(x_test_data)\n",
        "print(y_pred[:9])\n",
        "print(y_test_data[:9])"
      ],
      "execution_count": 47,
      "outputs": [
        {
          "output_type": "stream",
          "text": [
            "[[1.14393551e-07 5.12310692e-07 8.33492140e-06 6.77823391e-06\n",
            "  9.69295755e-10 2.54496406e-08 2.14693174e-09 9.99950886e-01\n",
            "  1.97826591e-08 3.33703174e-05]\n",
            " [6.05607738e-07 5.70767544e-10 9.99999404e-01 5.01572284e-10\n",
            "  1.10492890e-14 2.54642858e-15 1.86262436e-10 5.34308287e-09\n",
            "  1.17972937e-10 1.54447988e-09]\n",
            " [7.42641168e-06 9.99808252e-01 2.44539979e-06 2.46631316e-07\n",
            "  1.06261272e-04 2.44314788e-06 1.88413323e-05 4.22674530e-05\n",
            "  1.05487079e-05 1.21512596e-06]\n",
            " [9.99989748e-01 2.75117720e-15 6.33476427e-09 1.48104473e-14\n",
            "  1.07419879e-10 3.63436975e-10 4.34866388e-06 8.26068813e-09\n",
            "  1.62089702e-08 5.86204487e-06]\n",
            " [9.34722135e-13 8.41678344e-14 3.85604005e-12 5.11185807e-14\n",
            "  9.99997377e-01 2.89833491e-10 2.16317537e-11 3.77846893e-10\n",
            "  1.83024651e-09 2.60420529e-06]\n",
            " [1.16181229e-06 9.99931216e-01 3.56392576e-07 1.11175723e-07\n",
            "  3.79226767e-05 1.12116524e-07 1.87335684e-06 2.18636651e-05\n",
            "  4.19845173e-06 1.14134298e-06]\n",
            " [2.25318184e-11 4.56043781e-09 9.93285575e-12 4.14943579e-13\n",
            "  9.99944329e-01 2.17012630e-08 8.20743733e-12 2.11981202e-07\n",
            "  1.66732639e-06 5.37098895e-05]\n",
            " [1.11307586e-11 1.27180224e-16 5.84532778e-08 2.33620523e-09\n",
            "  6.07849324e-06 3.80389395e-07 2.11842384e-11 3.14258064e-09\n",
            "  6.00657631e-06 9.99987483e-01]\n",
            " [9.92046179e-09 1.30078982e-17 2.16459348e-08 2.22810962e-12\n",
            "  1.02389109e-07 9.93413627e-01 1.11910421e-03 3.55663680e-14\n",
            "  5.46510890e-03 2.01485614e-06]]\n",
            "[[0. 0. 0. 0. 0. 0. 0. 1. 0. 0.]\n",
            " [0. 0. 1. 0. 0. 0. 0. 0. 0. 0.]\n",
            " [0. 1. 0. 0. 0. 0. 0. 0. 0. 0.]\n",
            " [1. 0. 0. 0. 0. 0. 0. 0. 0. 0.]\n",
            " [0. 0. 0. 0. 1. 0. 0. 0. 0. 0.]\n",
            " [0. 1. 0. 0. 0. 0. 0. 0. 0. 0.]\n",
            " [0. 0. 0. 0. 1. 0. 0. 0. 0. 0.]\n",
            " [0. 0. 0. 0. 0. 0. 0. 0. 0. 1.]\n",
            " [0. 0. 0. 0. 0. 1. 0. 0. 0. 0.]]\n"
          ],
          "name": "stdout"
        }
      ]
    },
    {
      "metadata": {
        "id": "pVDksonfeX9y",
        "colab_type": "text"
      },
      "cell_type": "markdown",
      "source": [
        "**Test Accuracy without Augmentation : 99 %**\n",
        "\n",
        "**Test Accuracy After Augmentation : 99.08%**\n",
        "\n",
        "**Total Params: 19,146 **"
      ]
    },
    {
      "metadata": {
        "id": "mJU8Qej-SVpj",
        "colab_type": "code",
        "colab": {}
      },
      "cell_type": "code",
      "source": [
        ""
      ],
      "execution_count": 0,
      "outputs": []
    }
  ]
}